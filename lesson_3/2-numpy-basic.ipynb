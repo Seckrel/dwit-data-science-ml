{
 "cells": [
  {
   "cell_type": "code",
   "execution_count": 2,
   "id": "ed04a276-edb8-4fda-af0a-ef64db366c8d",
   "metadata": {},
   "outputs": [],
   "source": [
    "import numpy as np"
   ]
  },
  {
   "cell_type": "code",
   "execution_count": 7,
   "id": "98648a93-27d5-4a50-9591-7d389826f5ab",
   "metadata": {},
   "outputs": [
    {
     "data": {
      "text/plain": [
       "<module 'numpy' from '/Users/aayamojha/DWIT-TC/data_science_ml/lesson_3/venv/lib/python3.12/site-packages/numpy/__init__.py'>"
      ]
     },
     "execution_count": 7,
     "metadata": {},
     "output_type": "execute_result"
    }
   ],
   "source": [
    "np"
   ]
  },
  {
   "cell_type": "code",
   "execution_count": 5,
   "id": "73e32c3d-be56-49cb-abe9-ddcb805ed58b",
   "metadata": {},
   "outputs": [
    {
     "data": {
      "text/plain": [
       "<module 'numpy' from '/Users/aayamojha/DWIT-TC/data_science_ml/lesson_3/venv/lib/python3.12/site-packages/numpy/__init__.py'>"
      ]
     },
     "execution_count": 5,
     "metadata": {},
     "output_type": "execute_result"
    }
   ],
   "source": [
    "numpy"
   ]
  },
  {
   "cell_type": "markdown",
   "id": "6db31275-5f89-4fbd-89f9-bd66099d4aee",
   "metadata": {},
   "source": [
    "# Ndarray"
   ]
  },
  {
   "cell_type": "markdown",
   "id": "70308d3a-f384-48fe-b3c1-da4c88e5cfa4",
   "metadata": {},
   "source": [
    "By default numpy creates ndarray by looking at item in the list"
   ]
  },
  {
   "cell_type": "code",
   "execution_count": 13,
   "id": "b6f28386-5877-4700-8ef9-8aaa651c2260",
   "metadata": {},
   "outputs": [
    {
     "data": {
      "text/plain": [
       "array([1, 2, 3])"
      ]
     },
     "execution_count": 13,
     "metadata": {},
     "output_type": "execute_result"
    }
   ],
   "source": [
    "int_ndarray = np.array([1, 2, 3])\n",
    "int_ndarray"
   ]
  },
  {
   "cell_type": "markdown",
   "id": "66dc3108-561a-4d73-9ea2-60d9ab259572",
   "metadata": {},
   "source": [
    "> Dtype means the data type of the array. <br />\n",
    "> There can only be one dtype per np array. This is what makes numpy array homogenous"
   ]
  },
  {
   "cell_type": "code",
   "execution_count": 14,
   "id": "281e1024-fa61-4b40-94db-9c03f6b1e2c7",
   "metadata": {},
   "outputs": [
    {
     "data": {
      "text/plain": [
       "dtype('int64')"
      ]
     },
     "execution_count": 14,
     "metadata": {},
     "output_type": "execute_result"
    }
   ],
   "source": [
    "int_ndarray.dtype"
   ]
  },
  {
   "cell_type": "code",
   "execution_count": 8,
   "id": "b376708c-edd7-44d9-9a9f-791abed14cf3",
   "metadata": {},
   "outputs": [
    {
     "data": {
      "text/plain": [
       "numpy.ndarray"
      ]
     },
     "execution_count": 8,
     "metadata": {},
     "output_type": "execute_result"
    }
   ],
   "source": [
    "type(int_ndarray)"
   ]
  },
  {
   "cell_type": "markdown",
   "id": "58b2b52a-efde-4f2c-9026-b7d15994d0ad",
   "metadata": {},
   "source": [
    "**We can index an numpy array same as list in Python**"
   ]
  },
  {
   "cell_type": "code",
   "execution_count": 16,
   "id": "ec2b657b-adb6-431b-bc9a-55fe56809960",
   "metadata": {},
   "outputs": [
    {
     "data": {
      "text/plain": [
       "np.int64(3)"
      ]
     },
     "execution_count": 16,
     "metadata": {},
     "output_type": "execute_result"
    }
   ],
   "source": [
    "int_ndarray[2]"
   ]
  },
  {
   "cell_type": "code",
   "execution_count": 17,
   "id": "dc1007f1-9846-4e88-bb38-0534587db795",
   "metadata": {},
   "outputs": [
    {
     "data": {
      "text/plain": [
       "dtype('float64')"
      ]
     },
     "execution_count": 17,
     "metadata": {},
     "output_type": "execute_result"
    }
   ],
   "source": [
    "test_ndarray = np.array([1., 2])\n",
    "test_ndarray.dtype"
   ]
  },
  {
   "cell_type": "markdown",
   "id": "0bb954d5-94ca-4bef-9f59-7ecc8034fb34",
   "metadata": {},
   "source": [
    "We can specify dtype of np array to force dtype"
   ]
  },
  {
   "cell_type": "code",
   "execution_count": 22,
   "id": "c2005593-568c-4cc1-b68c-4e04a5131389",
   "metadata": {},
   "outputs": [
    {
     "data": {
      "text/plain": [
       "array([1., 2., 3.], dtype=float32)"
      ]
     },
     "execution_count": 22,
     "metadata": {},
     "output_type": "execute_result"
    }
   ],
   "source": [
    "float_ndarray = np.array([1,2,3], dtype=np.float32)\n",
    "float_ndarray"
   ]
  },
  {
   "cell_type": "code",
   "execution_count": 23,
   "id": "7e7de99c-9dbf-48fb-9e63-27d7f5ac4ff2",
   "metadata": {},
   "outputs": [
    {
     "data": {
      "text/plain": [
       "dtype('float32')"
      ]
     },
     "execution_count": 23,
     "metadata": {},
     "output_type": "execute_result"
    }
   ],
   "source": [
    "float_ndarray.dtype"
   ]
  },
  {
   "cell_type": "code",
   "execution_count": 24,
   "id": "8ec9dd07-5a7a-4879-80de-c94310c1d92b",
   "metadata": {},
   "outputs": [
    {
     "data": {
      "text/plain": [
       "numpy.ndarray"
      ]
     },
     "execution_count": 24,
     "metadata": {},
     "output_type": "execute_result"
    }
   ],
   "source": [
    "type(float_ndarray)"
   ]
  },
  {
   "cell_type": "markdown",
   "id": "7aa8f313-39c6-4d21-a98c-44478b3d0bf9",
   "metadata": {},
   "source": [
    "**Char Dtype**"
   ]
  },
  {
   "cell_type": "code",
   "execution_count": 26,
   "id": "0c63382c-ff79-4c30-92db-cfda0368f822",
   "metadata": {},
   "outputs": [
    {
     "data": {
      "text/plain": [
       "dtype('<U8')"
      ]
     },
     "execution_count": 26,
     "metadata": {},
     "output_type": "execute_result"
    }
   ],
   "source": [
    "test_ndarray = np.array([\"abc12\", 'bsddsdas'])\n",
    "test_ndarray.dtype"
   ]
  },
  {
   "cell_type": "code",
   "execution_count": 27,
   "id": "bf394eea-98f5-4179-a8a8-afab0d9dfee6",
   "metadata": {},
   "outputs": [
    {
     "data": {
      "text/plain": [
       "array(['abc12', 'bsddsdas'], dtype='<U8')"
      ]
     },
     "execution_count": 27,
     "metadata": {},
     "output_type": "execute_result"
    }
   ],
   "source": [
    "test_ndarray"
   ]
  },
  {
   "cell_type": "code",
   "execution_count": 28,
   "id": "c0051097-bad5-449c-b3a5-e16689708723",
   "metadata": {},
   "outputs": [
    {
     "name": "stdout",
     "output_type": "stream",
     "text": [
      "['2.3' 'True']\n"
     ]
    },
    {
     "data": {
      "text/plain": [
       "dtype('<U32')"
      ]
     },
     "execution_count": 28,
     "metadata": {},
     "output_type": "execute_result"
    }
   ],
   "source": [
    "test_ndarray = np.array([2.3, \"True\"])\n",
    "print(test_ndarray)\n",
    "test_ndarray.dtype"
   ]
  },
  {
   "cell_type": "markdown",
   "id": "b5e3a289-5120-4005-ae31-39da4e4f5737",
   "metadata": {},
   "source": [
    "# Multi-dimensonal Array"
   ]
  },
  {
   "cell_type": "code",
   "execution_count": 30,
   "id": "c66e42da-fef0-400d-a5d4-289524bf27b8",
   "metadata": {},
   "outputs": [
    {
     "data": {
      "text/plain": [
       "[[1, 2, 3], [2, 4, 5]]"
      ]
     },
     "execution_count": 30,
     "metadata": {},
     "output_type": "execute_result"
    }
   ],
   "source": [
    "li = [\n",
    "    [1, 2, 3],\n",
    "    [2, 4, 5]\n",
    "]\n",
    "li"
   ]
  },
  {
   "cell_type": "code",
   "execution_count": 31,
   "id": "c289cc12-2aa3-494d-93a9-7ffb0e20e372",
   "metadata": {},
   "outputs": [],
   "source": [
    "# multi dimensional array can be created by passing multi-dimensional list to np.array method\n",
    "arr = np.array(li, dtype='uint32') "
   ]
  },
  {
   "cell_type": "code",
   "execution_count": 32,
   "id": "9d457da7-71b3-4c3f-9540-cdb3bfb066a4",
   "metadata": {},
   "outputs": [
    {
     "data": {
      "text/plain": [
       "array([[1, 2, 3],\n",
       "       [2, 4, 5]], dtype=uint32)"
      ]
     },
     "execution_count": 32,
     "metadata": {},
     "output_type": "execute_result"
    }
   ],
   "source": [
    "arr"
   ]
  },
  {
   "cell_type": "code",
   "execution_count": 33,
   "id": "c1789884-51cd-432e-a9c9-8cde26810e0b",
   "metadata": {},
   "outputs": [
    {
     "data": {
      "text/plain": [
       "dtype('uint32')"
      ]
     },
     "execution_count": 33,
     "metadata": {},
     "output_type": "execute_result"
    }
   ],
   "source": [
    "arr.dtype"
   ]
  },
  {
   "cell_type": "code",
   "execution_count": 34,
   "id": "05efc702-5b90-409f-b6de-68267afd6749",
   "metadata": {},
   "outputs": [
    {
     "ename": "ValueError",
     "evalue": "setting an array element with a sequence. The requested array has an inhomogeneous shape after 1 dimensions. The detected shape was (2,) + inhomogeneous part.",
     "output_type": "error",
     "traceback": [
      "\u001b[0;31m---------------------------------------------------------------------------\u001b[0m",
      "\u001b[0;31mValueError\u001b[0m                                Traceback (most recent call last)",
      "Cell \u001b[0;32mIn[34], line 6\u001b[0m\n\u001b[1;32m      1\u001b[0m jagged_li \u001b[38;5;241m=\u001b[39m [\n\u001b[1;32m      2\u001b[0m     [\u001b[38;5;241m1\u001b[39m, \u001b[38;5;241m2\u001b[39m, \u001b[38;5;241m3\u001b[39m],\n\u001b[1;32m      3\u001b[0m     [\u001b[38;5;241m4\u001b[39m, \u001b[38;5;241m5\u001b[39m]\n\u001b[1;32m      4\u001b[0m ]\n\u001b[0;32m----> 6\u001b[0m jagged_arr \u001b[38;5;241m=\u001b[39m \u001b[43mnp\u001b[49m\u001b[38;5;241;43m.\u001b[39;49m\u001b[43marray\u001b[49m\u001b[43m(\u001b[49m\u001b[43mjagged_li\u001b[49m\u001b[43m)\u001b[49m\n\u001b[1;32m      7\u001b[0m \u001b[38;5;28mprint\u001b[39m(jagged_arr)\n",
      "\u001b[0;31mValueError\u001b[0m: setting an array element with a sequence. The requested array has an inhomogeneous shape after 1 dimensions. The detected shape was (2,) + inhomogeneous part."
     ]
    }
   ],
   "source": [
    "jagged_li = [\n",
    "    [1, 2, 3],\n",
    "    [4, 5]\n",
    "]\n",
    "\n",
    "jagged_arr = np.array(jagged_li)\n",
    "print(jagged_arr)"
   ]
  },
  {
   "cell_type": "markdown",
   "id": "ffb0ba1e-f7d6-4f28-a760-1b55057bd014",
   "metadata": {},
   "source": [
    "**<font color='red'>Cannot create an array in numpy with different number of column in different row</font>**"
   ]
  },
  {
   "cell_type": "markdown",
   "id": "386632ec-6b43-4f4a-9c2d-aa8ac9d47d08",
   "metadata": {},
   "source": [
    "## 3D Array"
   ]
  },
  {
   "cell_type": "code",
   "execution_count": 35,
   "id": "e901170d-4b7f-499d-a4a3-b178a7ae7aa9",
   "metadata": {},
   "outputs": [
    {
     "data": {
      "text/plain": [
       "array([[[1, 2, 3],\n",
       "        [4, 5, 6]],\n",
       "\n",
       "       [[7, 8, 9],\n",
       "        [1, 1, 1]]])"
      ]
     },
     "execution_count": 35,
     "metadata": {},
     "output_type": "execute_result"
    }
   ],
   "source": [
    "complex_li = [\n",
    "    [[1,2,3], [4,5,6]],\n",
    "    [[7, 8, 9], [1, 1, 1,]]\n",
    "]\n",
    "\n",
    "complex_arr = np.array(complex_li)\n",
    "complex_arr"
   ]
  },
  {
   "cell_type": "code",
   "execution_count": 36,
   "id": "99c859e6-0afe-468f-80bf-ad64b952dbb2",
   "metadata": {},
   "outputs": [
    {
     "data": {
      "text/plain": [
       "dtype('int64')"
      ]
     },
     "execution_count": 36,
     "metadata": {},
     "output_type": "execute_result"
    }
   ],
   "source": [
    "complex_arr.dtype"
   ]
  },
  {
   "cell_type": "markdown",
   "id": "d6271b97-c55e-4fa8-8360-c5f41842daf8",
   "metadata": {},
   "source": [
    "# Shape of Array\n",
    "\n",
    "The shape property is usually used to get the current shape of an array  \n",
    "Shape of the multi-dimensional array is "
   ]
  },
  {
   "cell_type": "code",
   "execution_count": 37,
   "id": "973c1a9d-bec2-4951-b7ca-80a3fb3a00c5",
   "metadata": {},
   "outputs": [
    {
     "data": {
      "text/plain": [
       "array([1, 2, 3])"
      ]
     },
     "execution_count": 37,
     "metadata": {},
     "output_type": "execute_result"
    }
   ],
   "source": [
    "int_ndarray"
   ]
  },
  {
   "cell_type": "code",
   "execution_count": 38,
   "id": "01d4c4c9-1dc3-4061-8c4e-42edcbee3031",
   "metadata": {},
   "outputs": [
    {
     "data": {
      "text/plain": [
       "(3,)"
      ]
     },
     "execution_count": 38,
     "metadata": {},
     "output_type": "execute_result"
    }
   ],
   "source": [
    "int_ndarray.shape"
   ]
  },
  {
   "cell_type": "code",
   "execution_count": 39,
   "id": "cb6f5673-a53f-45ce-a2c3-d4dce6c89310",
   "metadata": {},
   "outputs": [
    {
     "data": {
      "text/plain": [
       "3"
      ]
     },
     "execution_count": 39,
     "metadata": {},
     "output_type": "execute_result"
    }
   ],
   "source": [
    "# len of single dimensional array is same as its shape\n",
    "len(int_ndarray)"
   ]
  },
  {
   "cell_type": "code",
   "execution_count": 40,
   "id": "2881c214-9821-46f5-886d-b512c4833962",
   "metadata": {},
   "outputs": [
    {
     "data": {
      "text/plain": [
       "array([[1, 2, 3],\n",
       "       [2, 4, 5]], dtype=uint32)"
      ]
     },
     "execution_count": 40,
     "metadata": {},
     "output_type": "execute_result"
    }
   ],
   "source": [
    "arr"
   ]
  },
  {
   "cell_type": "code",
   "execution_count": 41,
   "id": "6e6a6eb8-6ada-4f8b-a8bb-67102d84c685",
   "metadata": {},
   "outputs": [
    {
     "data": {
      "text/plain": [
       "(2, 3)"
      ]
     },
     "execution_count": 41,
     "metadata": {},
     "output_type": "execute_result"
    }
   ],
   "source": [
    "arr.shape"
   ]
  },
  {
   "cell_type": "markdown",
   "id": "f59a17f9-673c-4656-8840-e5bf5c988497",
   "metadata": {},
   "source": [
    "len of arr is number of rows in an array  \n",
    "len of arr[0] is number of column per row in an array"
   ]
  },
  {
   "cell_type": "code",
   "execution_count": 42,
   "id": "d4311879-97c0-4cd8-833c-89f70dbeb82b",
   "metadata": {},
   "outputs": [
    {
     "name": "stdout",
     "output_type": "stream",
     "text": [
      "2\n",
      "3\n"
     ]
    }
   ],
   "source": [
    "print(len(arr))\n",
    "print(len(arr[0]))"
   ]
  },
  {
   "cell_type": "code",
   "execution_count": 43,
   "id": "20e500d5-0e58-4851-b0a9-2e8beaa55b2f",
   "metadata": {},
   "outputs": [
    {
     "data": {
      "text/plain": [
       "array([[[1, 2, 3],\n",
       "        [4, 5, 6]],\n",
       "\n",
       "       [[7, 8, 9],\n",
       "        [1, 1, 1]]])"
      ]
     },
     "execution_count": 43,
     "metadata": {},
     "output_type": "execute_result"
    }
   ],
   "source": [
    "complex_arr"
   ]
  },
  {
   "cell_type": "code",
   "execution_count": 44,
   "id": "a22fa250-eca1-42f7-b692-6458a8a05337",
   "metadata": {},
   "outputs": [
    {
     "data": {
      "text/plain": [
       "(2, 2, 3)"
      ]
     },
     "execution_count": 44,
     "metadata": {},
     "output_type": "execute_result"
    }
   ],
   "source": [
    "complex_arr.shape"
   ]
  },
  {
   "cell_type": "markdown",
   "id": "db0064b1-6ebb-438d-adf5-0ae056c83ab6",
   "metadata": {},
   "source": [
    "![3D Data Cube](./images/CubeApart.png \"Example of 3D Matrix\")  \n",
    "**Here,**  \n",
    "Y-axis = Different types of items  \n",
    "X-axis = count of these item sold  \n",
    "Z-axis = year during which these specific item was sold and how many\n"
   ]
  },
  {
   "cell_type": "code",
   "execution_count": 64,
   "id": "89936191-6207-4eac-8f90-41bed96e1d09",
   "metadata": {},
   "outputs": [],
   "source": [
    "## Dimension of Array"
   ]
  },
  {
   "cell_type": "code",
   "execution_count": 45,
   "id": "78d66cab-d7d8-4bf4-83f1-f59fa3a19a38",
   "metadata": {},
   "outputs": [
    {
     "data": {
      "text/plain": [
       "1"
      ]
     },
     "execution_count": 45,
     "metadata": {},
     "output_type": "execute_result"
    }
   ],
   "source": [
    "int_ndarray.ndim"
   ]
  },
  {
   "cell_type": "code",
   "execution_count": 46,
   "id": "c10e2f77-b976-4cf2-9b53-a1d89c8074a2",
   "metadata": {},
   "outputs": [
    {
     "data": {
      "text/plain": [
       "2"
      ]
     },
     "execution_count": 46,
     "metadata": {},
     "output_type": "execute_result"
    }
   ],
   "source": [
    "arr.ndim"
   ]
  },
  {
   "cell_type": "code",
   "execution_count": 47,
   "id": "1b3c63cf-382d-483d-8991-ffdbfb0e9c29",
   "metadata": {},
   "outputs": [
    {
     "data": {
      "text/plain": [
       "3"
      ]
     },
     "execution_count": 47,
     "metadata": {},
     "output_type": "execute_result"
    }
   ],
   "source": [
    "complex_arr.ndim"
   ]
  },
  {
   "cell_type": "markdown",
   "id": "254ecf58-278c-4182-a1be-28111ad642b6",
   "metadata": {},
   "source": [
    "# Array of size N w/ single value"
   ]
  },
  {
   "cell_type": "code",
   "execution_count": 50,
   "id": "760bc5e5-5262-497a-8d9a-a116284f28e9",
   "metadata": {},
   "outputs": [
    {
     "name": "stdout",
     "output_type": "stream",
     "text": [
      "[0. 0. 0. 0. 0.]\n"
     ]
    },
    {
     "data": {
      "text/plain": [
       "dtype('float64')"
      ]
     },
     "execution_count": 50,
     "metadata": {},
     "output_type": "execute_result"
    }
   ],
   "source": [
    "arr_zero = np.zeros(5,)\n",
    "print(arr_zero)\n",
    "arr_zero.dtype "
   ]
  },
  {
   "cell_type": "markdown",
   "id": "e13e8522-797f-4e86-8e30-c66469a160dc",
   "metadata": {},
   "source": [
    "> **defaults to dtype of float64**"
   ]
  },
  {
   "cell_type": "code",
   "execution_count": 51,
   "id": "c91f695f-4bbc-4c04-9abe-bcc0aa96efab",
   "metadata": {},
   "outputs": [
    {
     "name": "stdout",
     "output_type": "stream",
     "text": [
      "[1. 1. 1. 1. 1. 1. 1.]\n"
     ]
    },
    {
     "data": {
      "text/plain": [
       "dtype('float64')"
      ]
     },
     "execution_count": 51,
     "metadata": {},
     "output_type": "execute_result"
    }
   ],
   "source": [
    "arr_one = np.ones(7)\n",
    "print(arr_one)\n",
    "arr_one.dtype"
   ]
  },
  {
   "cell_type": "markdown",
   "id": "dbcfb3eb-4e82-4a8f-ac93-0c51898870ab",
   "metadata": {},
   "source": [
    "**To create array of our choosen size, and value**"
   ]
  },
  {
   "cell_type": "code",
   "execution_count": 55,
   "id": "e7b72b95-c5fa-48ae-b8c9-37c7841a9e2c",
   "metadata": {},
   "outputs": [
    {
     "data": {
      "text/plain": [
       "array([8, 8, 8, 8, 8])"
      ]
     },
     "execution_count": 55,
     "metadata": {},
     "output_type": "execute_result"
    }
   ],
   "source": [
    "np.full((5,), 8)"
   ]
  },
  {
   "cell_type": "code",
   "execution_count": 56,
   "id": "16c0ac91-d115-4047-8468-af56715c99a5",
   "metadata": {},
   "outputs": [
    {
     "data": {
      "text/plain": [
       "array([[8, 8, 8],\n",
       "       [8, 8, 8]])"
      ]
     },
     "execution_count": 56,
     "metadata": {},
     "output_type": "execute_result"
    }
   ],
   "source": [
    "np.full((2, 3), 8)"
   ]
  },
  {
   "cell_type": "markdown",
   "id": "224086b7-c789-44a6-a135-4b67e37ebafa",
   "metadata": {},
   "source": [
    "## Identity Matrix"
   ]
  },
  {
   "cell_type": "code",
   "execution_count": 57,
   "id": "83247ea5-0b2a-4525-b270-79c58045f33e",
   "metadata": {},
   "outputs": [
    {
     "data": {
      "text/plain": [
       "array([[1., 0., 0., 0., 0.],\n",
       "       [0., 1., 0., 0., 0.],\n",
       "       [0., 0., 1., 0., 0.],\n",
       "       [0., 0., 0., 1., 0.],\n",
       "       [0., 0., 0., 0., 1.]])"
      ]
     },
     "execution_count": 57,
     "metadata": {},
     "output_type": "execute_result"
    }
   ],
   "source": [
    "np.eye(5)"
   ]
  },
  {
   "cell_type": "markdown",
   "id": "5f54ee8e-ac56-4f11-9354-7b52fd8366a6",
   "metadata": {},
   "source": [
    "<font color=\"yellow\">Auto creates array of size 5x5, and fill primary diagonal with value 1</font>  \n",
    "However, numpy gives us flexibility to change the placement of 1's by offsetting diagonal"
   ]
  },
  {
   "cell_type": "code",
   "execution_count": 72,
   "id": "a2da76db-cbc9-4b5b-8ed2-e099d387abd1",
   "metadata": {},
   "outputs": [
    {
     "data": {
      "text/plain": [
       "array([[0., 1., 0., 0., 0.],\n",
       "       [0., 0., 1., 0., 0.],\n",
       "       [0., 0., 0., 1., 0.],\n",
       "       [0., 0., 0., 0., 1.],\n",
       "       [0., 0., 0., 0., 0.]])"
      ]
     },
     "execution_count": 72,
     "metadata": {},
     "output_type": "execute_result"
    }
   ],
   "source": [
    "np.eye(5, k=1) # this is not an identity matrix"
   ]
  },
  {
   "cell_type": "code",
   "execution_count": 58,
   "id": "ce9068b8-752d-4201-bb07-b1a28da0cfae",
   "metadata": {},
   "outputs": [
    {
     "data": {
      "text/plain": [
       "array([[0., 0., 0., 0., 0.],\n",
       "       [0., 0., 0., 0., 0.],\n",
       "       [1., 0., 0., 0., 0.],\n",
       "       [0., 1., 0., 0., 0.],\n",
       "       [0., 0., 1., 0., 0.]])"
      ]
     },
     "execution_count": 58,
     "metadata": {},
     "output_type": "execute_result"
    }
   ],
   "source": [
    "np.eye(5, k=-2) # this is not an identity matrix"
   ]
  },
  {
   "cell_type": "markdown",
   "id": "45e55366-eef6-4828-be86-a7313c68ac34",
   "metadata": {},
   "source": [
    "# Evenly spaced ndarray"
   ]
  },
  {
   "cell_type": "markdown",
   "id": "05efdae5-ee2d-4d03-a517-17379b795dca",
   "metadata": {},
   "source": [
    "## Using `np.arange`\n",
    "arange([start], stop, [step]) [start, stop)  \n",
    "Concept is same as `range` function in python"
   ]
  },
  {
   "cell_type": "code",
   "execution_count": 59,
   "id": "a435e6af-59b4-4c23-a5bc-31d9521675d7",
   "metadata": {},
   "outputs": [
    {
     "data": {
      "text/plain": [
       "array([0, 1, 2, 3, 4])"
      ]
     },
     "execution_count": 59,
     "metadata": {},
     "output_type": "execute_result"
    }
   ],
   "source": [
    "np.arange(5) "
   ]
  },
  {
   "cell_type": "code",
   "execution_count": 60,
   "id": "dddbce6c-b8fc-4328-9526-1df392f83c67",
   "metadata": {},
   "outputs": [
    {
     "data": {
      "text/plain": [
       "array([2, 3, 4])"
      ]
     },
     "execution_count": 60,
     "metadata": {},
     "output_type": "execute_result"
    }
   ],
   "source": [
    "np.arange(2, 5)"
   ]
  },
  {
   "cell_type": "code",
   "execution_count": 77,
   "id": "0c1e4796-9581-4d95-ace8-a1918f32244c",
   "metadata": {},
   "outputs": [
    {
     "data": {
      "text/plain": [
       "array([2, 4, 6, 8])"
      ]
     },
     "execution_count": 77,
     "metadata": {},
     "output_type": "execute_result"
    }
   ],
   "source": [
    "np.arange(2, 9, 2)"
   ]
  },
  {
   "cell_type": "markdown",
   "id": "2bcfd1b5-9434-417a-ad78-d634fe99e290",
   "metadata": {},
   "source": [
    "## Using `np.linspace`\n",
    "Instead of taking step-size, linspace ask for how many number to return within the given range.  \n",
    "Unlike `np.arange`, it includes the last number in the rage.  \n",
    "\n",
    "Link to documentation: [np.linspace](https://numpy.org/doc/2.1/reference/generated/numpy.linspace.html#numpy-linspace)"
   ]
  },
  {
   "cell_type": "code",
   "execution_count": 61,
   "id": "f77902a2-d657-4ac2-a967-03684e309d5b",
   "metadata": {},
   "outputs": [
    {
     "data": {
      "text/plain": [
       "array([1., 2., 3., 4., 5.])"
      ]
     },
     "execution_count": 61,
     "metadata": {},
     "output_type": "execute_result"
    }
   ],
   "source": [
    "np.linspace(1, 5, 5)"
   ]
  },
  {
   "cell_type": "code",
   "execution_count": 62,
   "id": "a28734af-7b9d-49ac-97fa-e1a5cc8bd9d1",
   "metadata": {},
   "outputs": [
    {
     "data": {
      "text/plain": [
       "array([1.        , 1.66666667, 2.33333333, 3.        , 3.66666667,\n",
       "       4.33333333, 5.        ])"
      ]
     },
     "execution_count": 62,
     "metadata": {},
     "output_type": "execute_result"
    }
   ],
   "source": [
    "np.linspace(1, 5, 7)"
   ]
  },
  {
   "cell_type": "code",
   "execution_count": 63,
   "id": "73a140f0-3d3f-4bf7-a491-e827a3878b92",
   "metadata": {},
   "outputs": [
    {
     "data": {
      "text/plain": [
       "array([1. , 1.4, 1.8, 2.2, 2.6, 3. , 3.4, 3.8, 4.2, 4.6, 5. ])"
      ]
     },
     "execution_count": 63,
     "metadata": {},
     "output_type": "execute_result"
    }
   ],
   "source": [
    "np.linspace(1, 5, 11)"
   ]
  },
  {
   "cell_type": "markdown",
   "id": "c788290f-5b5d-4b9a-a3f8-7a46937b518a",
   "metadata": {},
   "source": [
    "# Class Assignment"
   ]
  },
  {
   "cell_type": "markdown",
   "id": "debc36ac-4d47-493c-8b0d-ca4973ab91a0",
   "metadata": {
    "jp-MarkdownHeadingCollapsed": true
   },
   "source": [
    "## Ndarray of first 100 even numbers"
   ]
  },
  {
   "cell_type": "code",
   "execution_count": 8,
   "id": "809adc22-7e2d-4565-a073-d41cde62e81c",
   "metadata": {},
   "outputs": [
    {
     "data": {
      "text/plain": [
       "array([  2,   4,   6,   8,  10,  12,  14,  16,  18,  20,  22,  24,  26,\n",
       "        28,  30,  32,  34,  36,  38,  40,  42,  44,  46,  48,  50,  52,\n",
       "        54,  56,  58,  60,  62,  64,  66,  68,  70,  72,  74,  76,  78,\n",
       "        80,  82,  84,  86,  88,  90,  92,  94,  96,  98, 100, 102, 104,\n",
       "       106, 108, 110, 112, 114, 116, 118, 120, 122, 124, 126, 128, 130,\n",
       "       132, 134, 136, 138, 140, 142, 144, 146, 148, 150, 152, 154, 156,\n",
       "       158, 160, 162, 164, 166, 168, 170, 172, 174, 176, 178, 180, 182,\n",
       "       184, 186, 188, 190, 192, 194, 196, 198, 200])"
      ]
     },
     "execution_count": 8,
     "metadata": {},
     "output_type": "execute_result"
    }
   ],
   "source": [
    "arr_w_evens = np.arange(2, 201, 2)\n",
    "arr_w_evens"
   ]
  },
  {
   "cell_type": "code",
   "execution_count": 9,
   "id": "7789783c-c726-4b20-9b28-158843063c02",
   "metadata": {},
   "outputs": [
    {
     "data": {
      "text/plain": [
       "100"
      ]
     },
     "execution_count": 9,
     "metadata": {},
     "output_type": "execute_result"
    }
   ],
   "source": [
    "len(arr_w_evens)"
   ]
  },
  {
   "cell_type": "markdown",
   "id": "dc18afd8-186f-4ed1-8146-a1a46cf3ef31",
   "metadata": {},
   "source": [
    "## Arr of size 100 between 1 to 11 inclusive"
   ]
  },
  {
   "cell_type": "code",
   "execution_count": 10,
   "id": "df49669b-85e4-4e11-9cce-cbcf80ef1d13",
   "metadata": {},
   "outputs": [
    {
     "data": {
      "text/plain": [
       "array([ 5.        ,  5.06060606,  5.12121212,  5.18181818,  5.24242424,\n",
       "        5.3030303 ,  5.36363636,  5.42424242,  5.48484848,  5.54545455,\n",
       "        5.60606061,  5.66666667,  5.72727273,  5.78787879,  5.84848485,\n",
       "        5.90909091,  5.96969697,  6.03030303,  6.09090909,  6.15151515,\n",
       "        6.21212121,  6.27272727,  6.33333333,  6.39393939,  6.45454545,\n",
       "        6.51515152,  6.57575758,  6.63636364,  6.6969697 ,  6.75757576,\n",
       "        6.81818182,  6.87878788,  6.93939394,  7.        ,  7.06060606,\n",
       "        7.12121212,  7.18181818,  7.24242424,  7.3030303 ,  7.36363636,\n",
       "        7.42424242,  7.48484848,  7.54545455,  7.60606061,  7.66666667,\n",
       "        7.72727273,  7.78787879,  7.84848485,  7.90909091,  7.96969697,\n",
       "        8.03030303,  8.09090909,  8.15151515,  8.21212121,  8.27272727,\n",
       "        8.33333333,  8.39393939,  8.45454545,  8.51515152,  8.57575758,\n",
       "        8.63636364,  8.6969697 ,  8.75757576,  8.81818182,  8.87878788,\n",
       "        8.93939394,  9.        ,  9.06060606,  9.12121212,  9.18181818,\n",
       "        9.24242424,  9.3030303 ,  9.36363636,  9.42424242,  9.48484848,\n",
       "        9.54545455,  9.60606061,  9.66666667,  9.72727273,  9.78787879,\n",
       "        9.84848485,  9.90909091,  9.96969697, 10.03030303, 10.09090909,\n",
       "       10.15151515, 10.21212121, 10.27272727, 10.33333333, 10.39393939,\n",
       "       10.45454545, 10.51515152, 10.57575758, 10.63636364, 10.6969697 ,\n",
       "       10.75757576, 10.81818182, 10.87878788, 10.93939394, 11.        ])"
      ]
     },
     "execution_count": 10,
     "metadata": {},
     "output_type": "execute_result"
    }
   ],
   "source": [
    "arr_w_100 = np.linspace(5, 11, 100)\n",
    "arr_w_100"
   ]
  },
  {
   "cell_type": "code",
   "execution_count": 11,
   "id": "d667d9cf-2766-4711-885d-36ffd087b7bb",
   "metadata": {},
   "outputs": [
    {
     "data": {
      "text/plain": [
       "100"
      ]
     },
     "execution_count": 11,
     "metadata": {},
     "output_type": "execute_result"
    }
   ],
   "source": [
    "len(arr_w_100)"
   ]
  },
  {
   "cell_type": "markdown",
   "id": "a4355ab9-400a-48c2-9ad9-c35c63bdfa64",
   "metadata": {},
   "source": [
    "## 7x7 Identity Matrix"
   ]
  },
  {
   "cell_type": "code",
   "execution_count": 13,
   "id": "9e7684e4-dfd5-4c3e-878b-aaa0cf58baaa",
   "metadata": {},
   "outputs": [
    {
     "data": {
      "text/plain": [
       "array([[1., 0., 0., 0., 0., 0., 0.],\n",
       "       [0., 1., 0., 0., 0., 0., 0.],\n",
       "       [0., 0., 1., 0., 0., 0., 0.],\n",
       "       [0., 0., 0., 1., 0., 0., 0.],\n",
       "       [0., 0., 0., 0., 1., 0., 0.],\n",
       "       [0., 0., 0., 0., 0., 1., 0.],\n",
       "       [0., 0., 0., 0., 0., 0., 1.]])"
      ]
     },
     "execution_count": 13,
     "metadata": {},
     "output_type": "execute_result"
    }
   ],
   "source": [
    "eye_7_mat = np.eye(7,7)\n",
    "eye_7_mat"
   ]
  },
  {
   "cell_type": "code",
   "execution_count": 14,
   "id": "7e4ebcd6-00ce-4356-b1bf-c139cb81a18f",
   "metadata": {},
   "outputs": [
    {
     "data": {
      "text/plain": [
       "(7, 7)"
      ]
     },
     "execution_count": 14,
     "metadata": {},
     "output_type": "execute_result"
    }
   ],
   "source": [
    "eye_7_mat.shape"
   ]
  },
  {
   "cell_type": "markdown",
   "id": "481ca95b-d0fc-4678-a8bf-2ebbcb6e1c36",
   "metadata": {},
   "source": [
    "### Offsetting this 7x7 matrix by ±2"
   ]
  },
  {
   "cell_type": "code",
   "execution_count": 20,
   "id": "0b636169-85f3-4f2d-811d-79a9d46ecbd7",
   "metadata": {},
   "outputs": [
    {
     "data": {
      "text/plain": [
       "array([[0., 0., 1., 0., 0., 0., 0.],\n",
       "       [0., 0., 0., 1., 0., 0., 0.],\n",
       "       [0., 0., 0., 0., 1., 0., 0.],\n",
       "       [0., 0., 0., 0., 0., 1., 0.],\n",
       "       [0., 0., 0., 0., 0., 0., 1.],\n",
       "       [0., 0., 0., 0., 0., 0., 0.],\n",
       "       [0., 0., 0., 0., 0., 0., 0.]])"
      ]
     },
     "execution_count": 20,
     "metadata": {},
     "output_type": "execute_result"
    }
   ],
   "source": [
    "np.eye(7, k=2)"
   ]
  },
  {
   "cell_type": "code",
   "execution_count": 16,
   "id": "d4903243-b09a-46fe-989c-2af12cbc9b34",
   "metadata": {},
   "outputs": [
    {
     "data": {
      "text/plain": [
       "array([[0., 0., 0., 0., 0., 0., 0.],\n",
       "       [0., 0., 0., 0., 0., 0., 0.],\n",
       "       [1., 0., 0., 0., 0., 0., 0.],\n",
       "       [0., 1., 0., 0., 0., 0., 0.],\n",
       "       [0., 0., 1., 0., 0., 0., 0.],\n",
       "       [0., 0., 0., 1., 0., 0., 0.],\n",
       "       [0., 0., 0., 0., 1., 0., 0.]])"
      ]
     },
     "execution_count": 16,
     "metadata": {},
     "output_type": "execute_result"
    }
   ],
   "source": [
    "np.eye(7,7, -2)"
   ]
  },
  {
   "cell_type": "markdown",
   "id": "59d02948-120c-4399-8836-48784c2b864d",
   "metadata": {},
   "source": [
    "## Arr of dim 9x9 with -1 filled in it"
   ]
  },
  {
   "cell_type": "code",
   "execution_count": 18,
   "id": "5c6ae56c-f1e4-47ac-a10e-0c16244bdf7a",
   "metadata": {},
   "outputs": [
    {
     "data": {
      "text/plain": [
       "array([[-1, -1, -1, -1, -1, -1, -1, -1, -1],\n",
       "       [-1, -1, -1, -1, -1, -1, -1, -1, -1],\n",
       "       [-1, -1, -1, -1, -1, -1, -1, -1, -1],\n",
       "       [-1, -1, -1, -1, -1, -1, -1, -1, -1],\n",
       "       [-1, -1, -1, -1, -1, -1, -1, -1, -1],\n",
       "       [-1, -1, -1, -1, -1, -1, -1, -1, -1],\n",
       "       [-1, -1, -1, -1, -1, -1, -1, -1, -1],\n",
       "       [-1, -1, -1, -1, -1, -1, -1, -1, -1],\n",
       "       [-1, -1, -1, -1, -1, -1, -1, -1, -1]])"
      ]
     },
     "execution_count": 18,
     "metadata": {},
     "output_type": "execute_result"
    }
   ],
   "source": [
    "arr_9x9 = np.full((9, 9), -1)\n",
    "arr_9x9"
   ]
  },
  {
   "cell_type": "code",
   "execution_count": 19,
   "id": "4aa0a47c-68b9-40e9-b059-a72e47188916",
   "metadata": {},
   "outputs": [
    {
     "data": {
      "text/plain": [
       "(9, 9)"
      ]
     },
     "execution_count": 19,
     "metadata": {},
     "output_type": "execute_result"
    }
   ],
   "source": [
    "arr_9x9.shape"
   ]
  },
  {
   "cell_type": "markdown",
   "id": "74b8e30f-d6e2-409e-b26c-b9ad24a6e033",
   "metadata": {},
   "source": [
    "# Reshaping Array"
   ]
  },
  {
   "cell_type": "markdown",
   "id": "698ef3a6-dcf1-47af-a4c5-c980e0c65f91",
   "metadata": {},
   "source": [
    "## Flattening an Array\n",
    "Process of converting a multi-dimensional array to 1D  \n",
    "This process uses flatten and ravel"
   ]
  },
  {
   "cell_type": "code",
   "execution_count": 86,
   "id": "404dbe6e-5fe3-4f1f-8364-9e3294168b8e",
   "metadata": {},
   "outputs": [
    {
     "data": {
      "text/plain": [
       "array([[1., 1., 1., 1., 1.],\n",
       "       [1., 1., 1., 1., 1.],\n",
       "       [1., 1., 1., 1., 1.],\n",
       "       [1., 1., 1., 1., 1.],\n",
       "       [1., 1., 1., 1., 1.]])"
      ]
     },
     "execution_count": 86,
     "metadata": {},
     "output_type": "execute_result"
    }
   ],
   "source": [
    "arr = np.ones((5, 5))\n",
    "arr"
   ]
  },
  {
   "cell_type": "code",
   "execution_count": 90,
   "id": "1fe88723-88f1-4c9b-8223-fad5e6bcc08a",
   "metadata": {},
   "outputs": [
    {
     "data": {
      "text/plain": [
       "(5, 5)"
      ]
     },
     "execution_count": 90,
     "metadata": {},
     "output_type": "execute_result"
    }
   ],
   "source": [
    "arr.shape"
   ]
  },
  {
   "cell_type": "code",
   "execution_count": 87,
   "id": "63b3cb34-1cef-468c-bdf1-0a589018e47c",
   "metadata": {},
   "outputs": [
    {
     "data": {
      "text/plain": [
       "array([1., 1., 1., 1., 1., 1., 1., 1., 1., 1., 1., 1., 1., 1., 1., 1., 1.,\n",
       "       1., 1., 1., 1., 1., 1., 1., 1.])"
      ]
     },
     "execution_count": 87,
     "metadata": {},
     "output_type": "execute_result"
    }
   ],
   "source": [
    "arr_flat = arr.flatten()\n",
    "arr_flat"
   ]
  },
  {
   "cell_type": "code",
   "execution_count": 89,
   "id": "f15a0490-01fb-40ea-a3a7-1b89947659b9",
   "metadata": {},
   "outputs": [
    {
     "data": {
      "text/plain": [
       "(25,)"
      ]
     },
     "execution_count": 89,
     "metadata": {},
     "output_type": "execute_result"
    }
   ],
   "source": [
    "arr_flat.shape"
   ]
  },
  {
   "cell_type": "code",
   "execution_count": 95,
   "id": "4a482d36-720b-4d11-9455-3f676074ae1c",
   "metadata": {},
   "outputs": [
    {
     "data": {
      "text/plain": [
       "array([1., 1., 1., 1., 1., 1., 1., 1., 1., 1., 1., 1., 1., 1., 1., 1., 1.,\n",
       "       1., 1., 1., 1., 1., 1., 1., 1.])"
      ]
     },
     "execution_count": 95,
     "metadata": {},
     "output_type": "execute_result"
    }
   ],
   "source": [
    "arr_ravel = arr.ravel()\n",
    "arr_ravel"
   ]
  },
  {
   "cell_type": "code",
   "execution_count": 96,
   "id": "79cdd578-3cef-4a49-a040-8f4aee98aa30",
   "metadata": {},
   "outputs": [
    {
     "data": {
      "text/plain": [
       "(25,)"
      ]
     },
     "execution_count": 96,
     "metadata": {},
     "output_type": "execute_result"
    }
   ],
   "source": [
    "arr_ravel.shape"
   ]
  },
  {
   "cell_type": "markdown",
   "id": "8eaeceb4-2ba7-45a6-b5ed-3cf5085bb854",
   "metadata": {},
   "source": [
    "Difference between flattened and ravel  \n",
    "| Flatten | Ravel |\n",
    "| :- | :- |\n",
    "| Returns a copy of the original array | Returns an reference of the original array |\n",
    "\n",
    "  "
   ]
  },
  {
   "cell_type": "code",
   "execution_count": 97,
   "id": "15dc34b3-add4-48f3-97a9-dacde13198eb",
   "metadata": {},
   "outputs": [
    {
     "data": {
      "text/plain": [
       "array([[1., 1., 1., 1., 1.],\n",
       "       [1., 1., 1., 1., 1.],\n",
       "       [1., 1., 1., 1., 1.],\n",
       "       [1., 1., 1., 1., 1.],\n",
       "       [1., 1., 1., 1., 1.]])"
      ]
     },
     "execution_count": 97,
     "metadata": {},
     "output_type": "execute_result"
    }
   ],
   "source": [
    "arr"
   ]
  },
  {
   "cell_type": "code",
   "execution_count": 98,
   "id": "41c521a6-81cd-471c-82f6-6369fdd107a4",
   "metadata": {},
   "outputs": [],
   "source": [
    "arr_flat[1] = 2"
   ]
  },
  {
   "cell_type": "code",
   "execution_count": 99,
   "id": "491099f8-0674-49d1-aacc-0415fd72389a",
   "metadata": {},
   "outputs": [
    {
     "data": {
      "text/plain": [
       "array([[1., 1., 1., 1., 1.],\n",
       "       [1., 1., 1., 1., 1.],\n",
       "       [1., 1., 1., 1., 1.],\n",
       "       [1., 1., 1., 1., 1.],\n",
       "       [1., 1., 1., 1., 1.]])"
      ]
     },
     "execution_count": 99,
     "metadata": {},
     "output_type": "execute_result"
    }
   ],
   "source": [
    "arr"
   ]
  },
  {
   "cell_type": "code",
   "execution_count": 100,
   "id": "bf7e9a6d-1542-4fb7-8570-7fa26d66ff08",
   "metadata": {},
   "outputs": [
    {
     "data": {
      "text/plain": [
       "array([[1., 2., 1., 1., 1.],\n",
       "       [1., 1., 1., 1., 1.],\n",
       "       [1., 1., 1., 1., 1.],\n",
       "       [1., 1., 1., 1., 1.],\n",
       "       [1., 1., 1., 1., 1.]])"
      ]
     },
     "execution_count": 100,
     "metadata": {},
     "output_type": "execute_result"
    }
   ],
   "source": [
    "arr_ravel[1] = 2\n",
    "arr"
   ]
  },
  {
   "cell_type": "markdown",
   "id": "78a84729-f543-4424-8176-4060d450c846",
   "metadata": {},
   "source": [
    "# Reshaping To Custom Dimension"
   ]
  },
  {
   "cell_type": "code",
   "execution_count": 121,
   "id": "03242465-01d7-44cb-945d-fd03f979ebae",
   "metadata": {},
   "outputs": [
    {
     "data": {
      "text/plain": [
       "array([1., 1., 1., 1., 1., 1., 1., 1., 1., 1., 1., 1.])"
      ]
     },
     "execution_count": 121,
     "metadata": {},
     "output_type": "execute_result"
    }
   ],
   "source": [
    "arr = np.ones(12)\n",
    "arr"
   ]
  },
  {
   "cell_type": "code",
   "execution_count": 122,
   "id": "0b76e7dc-c1dc-4ba1-a8b9-a130a286f910",
   "metadata": {},
   "outputs": [
    {
     "data": {
      "text/plain": [
       "array([[1., 1.],\n",
       "       [1., 1.],\n",
       "       [1., 1.],\n",
       "       [1., 1.],\n",
       "       [1., 1.],\n",
       "       [1., 1.]])"
      ]
     },
     "execution_count": 122,
     "metadata": {},
     "output_type": "execute_result"
    }
   ],
   "source": [
    "arr.reshape((6, 2))"
   ]
  },
  {
   "cell_type": "code",
   "execution_count": 123,
   "id": "d5fffcea-8edf-4c02-8119-40aac47350b7",
   "metadata": {},
   "outputs": [
    {
     "data": {
      "text/plain": [
       "array([[1., 1., 1.],\n",
       "       [1., 1., 1.],\n",
       "       [1., 1., 1.],\n",
       "       [1., 1., 1.]])"
      ]
     },
     "execution_count": 123,
     "metadata": {},
     "output_type": "execute_result"
    }
   ],
   "source": [
    "arr.reshape((4, 3))"
   ]
  },
  {
   "cell_type": "code",
   "execution_count": 124,
   "id": "7935368e-68fc-4214-bc18-bbb0e02b4ade",
   "metadata": {},
   "outputs": [
    {
     "data": {
      "text/plain": [
       "array([[1., 1., 1., 1., 1., 1.],\n",
       "       [1., 1., 1., 1., 1., 1.]])"
      ]
     },
     "execution_count": 124,
     "metadata": {},
     "output_type": "execute_result"
    }
   ],
   "source": [
    "arr.reshape((2, 6))"
   ]
  },
  {
   "cell_type": "code",
   "execution_count": 125,
   "id": "c7396e80-4683-427e-a9a5-95493532f164",
   "metadata": {},
   "outputs": [
    {
     "ename": "ValueError",
     "evalue": "cannot reshape array of size 12 into shape (2,2)",
     "output_type": "error",
     "traceback": [
      "\u001b[0;31m---------------------------------------------------------------------------\u001b[0m",
      "\u001b[0;31mValueError\u001b[0m                                Traceback (most recent call last)",
      "Cell \u001b[0;32mIn[125], line 1\u001b[0m\n\u001b[0;32m----> 1\u001b[0m \u001b[43marr\u001b[49m\u001b[38;5;241;43m.\u001b[39;49m\u001b[43mreshape\u001b[49m\u001b[43m(\u001b[49m\u001b[43m(\u001b[49m\u001b[38;5;241;43m2\u001b[39;49m\u001b[43m,\u001b[49m\u001b[43m \u001b[49m\u001b[38;5;241;43m2\u001b[39;49m\u001b[43m)\u001b[49m\u001b[43m)\u001b[49m\n",
      "\u001b[0;31mValueError\u001b[0m: cannot reshape array of size 12 into shape (2,2)"
     ]
    }
   ],
   "source": [
    "arr.reshape((2, 2))"
   ]
  },
  {
   "cell_type": "markdown",
   "id": "8c1661ab-146b-48d4-9e93-bbded6c047d3",
   "metadata": {},
   "source": [
    "While Reshaping an array: <font color='yellow'>New Row * New Col == Size of the original Array</font>"
   ]
  },
  {
   "cell_type": "markdown",
   "id": "9ab7f28a-c1bb-4624-a576-c501d2633657",
   "metadata": {},
   "source": [
    "## Transponsing An Array"
   ]
  },
  {
   "cell_type": "code",
   "execution_count": 127,
   "id": "da1b0875-e294-49c8-926e-a248b1f06f58",
   "metadata": {},
   "outputs": [
    {
     "data": {
      "text/plain": [
       "array([[1, 2, 3],\n",
       "       [4, 5, 7]])"
      ]
     },
     "execution_count": 127,
     "metadata": {},
     "output_type": "execute_result"
    }
   ],
   "source": [
    "arr = np.array([\n",
    "    [1, 2, 3],\n",
    "    [4, 5, 7]\n",
    "])\n",
    "arr"
   ]
  },
  {
   "cell_type": "code",
   "execution_count": 128,
   "id": "780ebcf2-d6b0-4195-a735-e785148f2a75",
   "metadata": {},
   "outputs": [
    {
     "data": {
      "text/plain": [
       "array([[1, 4],\n",
       "       [2, 5],\n",
       "       [3, 7]])"
      ]
     },
     "execution_count": 128,
     "metadata": {},
     "output_type": "execute_result"
    }
   ],
   "source": [
    "arr.transpose()"
   ]
  },
  {
   "cell_type": "markdown",
   "id": "b77d6b43-7eaa-44d2-8e34-22dc1022b2a8",
   "metadata": {},
   "source": [
    "# Slicing Array"
   ]
  },
  {
   "cell_type": "markdown",
   "id": "5464be26-e294-4fab-b4ad-1b861fa68480",
   "metadata": {},
   "source": [
    "## Slicing 1D Array"
   ]
  },
  {
   "cell_type": "code",
   "execution_count": 140,
   "id": "84877566-3624-4dea-91b6-c16da62c3571",
   "metadata": {},
   "outputs": [
    {
     "data": {
      "text/plain": [
       "array([ 0,  1,  2,  3,  4,  5,  6,  7,  8,  9, 10, 11])"
      ]
     },
     "execution_count": 140,
     "metadata": {},
     "output_type": "execute_result"
    }
   ],
   "source": [
    "arr = np.array(range(12))\n",
    "arr"
   ]
  },
  {
   "cell_type": "code",
   "execution_count": 141,
   "id": "27d10076-2e58-4e12-b3b2-eb06868fc167",
   "metadata": {},
   "outputs": [
    {
     "data": {
      "text/plain": [
       "array([1, 2])"
      ]
     },
     "execution_count": 141,
     "metadata": {},
     "output_type": "execute_result"
    }
   ],
   "source": [
    "arr[1:3]"
   ]
  },
  {
   "cell_type": "code",
   "execution_count": 142,
   "id": "940dd1c7-5834-4342-b270-b194d74ff21b",
   "metadata": {},
   "outputs": [
    {
     "data": {
      "text/plain": [
       "array([1, 3, 5])"
      ]
     },
     "execution_count": 142,
     "metadata": {},
     "output_type": "execute_result"
    }
   ],
   "source": [
    "arr[1:7:2]"
   ]
  },
  {
   "cell_type": "code",
   "execution_count": 143,
   "id": "0121bc3c-2477-4115-86e1-618294b9e21a",
   "metadata": {},
   "outputs": [
    {
     "data": {
      "text/plain": [
       "array([0, 1, 2, 3, 4, 5, 6])"
      ]
     },
     "execution_count": 143,
     "metadata": {},
     "output_type": "execute_result"
    }
   ],
   "source": [
    "arr[:7]"
   ]
  },
  {
   "cell_type": "code",
   "execution_count": 144,
   "id": "2a0284eb-f9e5-4480-b38b-112841bca237",
   "metadata": {},
   "outputs": [
    {
     "data": {
      "text/plain": [
       "array([ 7,  8,  9, 10, 11])"
      ]
     },
     "execution_count": 144,
     "metadata": {},
     "output_type": "execute_result"
    }
   ],
   "source": [
    "arr[7:]"
   ]
  },
  {
   "cell_type": "code",
   "execution_count": 145,
   "id": "fc54e4f5-9371-44ac-966f-d9c65a370ee8",
   "metadata": {},
   "outputs": [
    {
     "data": {
      "text/plain": [
       "array([ 7,  9, 11])"
      ]
     },
     "execution_count": 145,
     "metadata": {},
     "output_type": "execute_result"
    }
   ],
   "source": [
    "arr[7::2]"
   ]
  },
  {
   "cell_type": "markdown",
   "id": "68aeb45a-6310-43a7-bcba-a8208392d958",
   "metadata": {},
   "source": [
    "## Slicing 2D Array"
   ]
  },
  {
   "cell_type": "code",
   "execution_count": 21,
   "id": "e065c893-113b-4750-ae56-8c70f63695bc",
   "metadata": {},
   "outputs": [
    {
     "data": {
      "text/plain": [
       "array([[ 1,  2,  3,  4,  5,  6],\n",
       "       [ 7,  8,  9, 11, 12, 21],\n",
       "       [13, 14, 15, 16, 17, 22]])"
      ]
     },
     "execution_count": 21,
     "metadata": {},
     "output_type": "execute_result"
    }
   ],
   "source": [
    "arr = np.array([\n",
    "    [1, 2, 3, 4, 5, 6],\n",
    "    [7, 8, 9, 11, 12, 21],\n",
    "    [13, 14, 15, 16, 17, 22]\n",
    "])\n",
    "arr"
   ]
  },
  {
   "cell_type": "code",
   "execution_count": 22,
   "id": "0c18e250-444f-49fc-af6c-47de49608036",
   "metadata": {},
   "outputs": [
    {
     "data": {
      "text/plain": [
       "(3, 6)"
      ]
     },
     "execution_count": 22,
     "metadata": {},
     "output_type": "execute_result"
    }
   ],
   "source": [
    "arr.shape"
   ]
  },
  {
   "cell_type": "markdown",
   "id": "4883070c-0b64-4fa5-83a9-d80f3cfe7fd7",
   "metadata": {},
   "source": [
    "### Select first 2 rows and all columns"
   ]
  },
  {
   "cell_type": "code",
   "execution_count": 24,
   "id": "78e5e517-fc5b-424e-bcc5-5e965a8605c9",
   "metadata": {},
   "outputs": [
    {
     "data": {
      "text/plain": [
       "array([[ 1,  2,  3,  4,  5,  6],\n",
       "       [ 7,  8,  9, 11, 12, 21]])"
      ]
     },
     "execution_count": 24,
     "metadata": {},
     "output_type": "execute_result"
    }
   ],
   "source": [
    "arr[:2, :]"
   ]
  },
  {
   "cell_type": "markdown",
   "id": "a1af6596-205d-4653-9444-39da3de60459",
   "metadata": {},
   "source": [
    "### Select first till last row and all cols"
   ]
  },
  {
   "cell_type": "code",
   "execution_count": 168,
   "id": "494249f3-517e-47b3-a94c-0b1ace1888d6",
   "metadata": {},
   "outputs": [
    {
     "data": {
      "text/plain": [
       "array([[ 7,  8,  9, 11, 12, 21],\n",
       "       [13, 14, 15, 16, 17, 22]])"
      ]
     },
     "execution_count": 168,
     "metadata": {},
     "output_type": "execute_result"
    }
   ],
   "source": [
    "arr[1:, :]"
   ]
  },
  {
   "cell_type": "markdown",
   "id": "66330778-7b94-4c0b-ae7c-96ef45662426",
   "metadata": {},
   "source": [
    "### Select all rows but only first two cols"
   ]
  },
  {
   "cell_type": "code",
   "execution_count": 169,
   "id": "f4b16ade-0e67-47c0-837e-e94f872e0a95",
   "metadata": {},
   "outputs": [
    {
     "data": {
      "text/plain": [
       "array([[ 1,  2],\n",
       "       [ 7,  8],\n",
       "       [13, 14]])"
      ]
     },
     "execution_count": 169,
     "metadata": {},
     "output_type": "execute_result"
    }
   ],
   "source": [
    "arr[:, :2]"
   ]
  },
  {
   "cell_type": "markdown",
   "id": "220be133-8a44-4409-99d3-ee25e46f0ac5",
   "metadata": {},
   "source": [
    "### Select rows from 1st index till last, but col from 2nd index to 5th (exclusive)"
   ]
  },
  {
   "cell_type": "code",
   "execution_count": 171,
   "id": "2670efdd-d7a2-4580-a59a-2edf134d0d8b",
   "metadata": {},
   "outputs": [
    {
     "data": {
      "text/plain": [
       "array([[ 9, 11, 12],\n",
       "       [15, 16, 17]])"
      ]
     },
     "execution_count": 171,
     "metadata": {},
     "output_type": "execute_result"
    }
   ],
   "source": [
    "arr[1:, 2:5]"
   ]
  },
  {
   "cell_type": "markdown",
   "id": "4c47622a-431b-44e0-97a6-487a050825a3",
   "metadata": {},
   "source": [
    "# Basic Arithmetic Operation"
   ]
  },
  {
   "cell_type": "markdown",
   "id": "4102652d-b5bf-4c7f-9765-95951e6ec912",
   "metadata": {},
   "source": [
    "Concept of `ufuncs`\n",
    "\n",
    "Python is a dynamically typed language. This means the data type of a variable does not need to be known at the time of the assignment. Python will automatically determine it at run-time. While this means a cleaner and easier code to write, it also makes Python sluggish.\n",
    "\n",
    "This problem manifests itself when Python has to do many operations repeatedly, like the addition of two arrays. This is so because each time an operation needs to be performed, Python has to check the data type of the element. This problem is overcome by NumPy using the ufuncs function.\n",
    "\n",
    "The way NumPy makes this work faster is by using vectorization. Vectorization performs the same operation on ndarray in an element-by-element fashion in a compiled code. So the data types of the elements do not need to be determined every time, thereby performing faster operations.\n",
    "\n",
    "`ufuncs` are Universal functions in NumPy that are simply mathematical functions. They perform fast element-wise functions. They are called automatically when you are performing simple arithmetic operations on NumPy arrays because they act as wrappers for NumPy ufuncs."
   ]
  },
  {
   "cell_type": "code",
   "execution_count": 26,
   "id": "07f74a94-ed64-4846-9b07-d158928a7421",
   "metadata": {},
   "outputs": [
    {
     "name": "stdout",
     "output_type": "stream",
     "text": [
      "1.29 μs ± 54.8 ns per loop (mean ± std. dev. of 7 runs, 1,000,000 loops each)\n"
     ]
    }
   ],
   "source": [
    "a = list(range(399))\n",
    "b = list(range(400, 699))\n",
    "%timeit a+b"
   ]
  },
  {
   "cell_type": "code",
   "execution_count": 27,
   "id": "85c8c48d-ddf3-400b-a6f0-22187c1abe7c",
   "metadata": {},
   "outputs": [
    {
     "name": "stdout",
     "output_type": "stream",
     "text": [
      "645 ns ± 2.43 ns per loop (mean ± std. dev. of 7 runs, 1,000,000 loops each)\n"
     ]
    }
   ],
   "source": [
    "a = np.arange(0,399)\n",
    "b = np.arange(400,799)\n",
    "%timeit a+b"
   ]
  },
  {
   "cell_type": "markdown",
   "id": "836ad3cc-63f3-496d-881d-614cdecb7007",
   "metadata": {},
   "source": [
    "Here, we can see numpy is significantly faster than traditional python list"
   ]
  },
  {
   "cell_type": "code",
   "execution_count": 185,
   "id": "4a6a4750-bd56-49ec-9d7a-eb5b35364cf6",
   "metadata": {},
   "outputs": [
    {
     "data": {
      "text/plain": [
       "array([ 0,  1,  2,  3,  4,  5,  6,  7,  8,  9, 10, 11, 12, 13, 14])"
      ]
     },
     "execution_count": 185,
     "metadata": {},
     "output_type": "execute_result"
    }
   ],
   "source": [
    "arr = np.arange(15)\n",
    "arr"
   ]
  },
  {
   "cell_type": "code",
   "execution_count": 186,
   "id": "07e26fbe-faad-4364-ae16-0ef74b472532",
   "metadata": {},
   "outputs": [
    {
     "data": {
      "text/plain": [
       "array([-5, -4, -3, -2, -1,  0,  1,  2,  3,  4,  5,  6,  7,  8,  9])"
      ]
     },
     "execution_count": 186,
     "metadata": {},
     "output_type": "execute_result"
    }
   ],
   "source": [
    "arr-5"
   ]
  },
  {
   "cell_type": "code",
   "execution_count": 187,
   "id": "a48e02a1-58d1-43a9-a532-eb9b63ff3b14",
   "metadata": {},
   "outputs": [
    {
     "data": {
      "text/plain": [
       "array([ 0,  2,  4,  6,  8, 10, 12, 14, 16, 18, 20, 22, 24, 26, 28])"
      ]
     },
     "execution_count": 187,
     "metadata": {},
     "output_type": "execute_result"
    }
   ],
   "source": [
    "arr*2"
   ]
  },
  {
   "cell_type": "code",
   "execution_count": 188,
   "id": "5b2bfe3f-7914-4169-9247-f0ebc9caa8f7",
   "metadata": {},
   "outputs": [
    {
     "data": {
      "text/plain": [
       "array([  0,   1,   4,   9,  16,  25,  36,  49,  64,  81, 100, 121, 144,\n",
       "       169, 196])"
      ]
     },
     "execution_count": 188,
     "metadata": {},
     "output_type": "execute_result"
    }
   ],
   "source": [
    "arr**2"
   ]
  },
  {
   "cell_type": "code",
   "execution_count": 189,
   "id": "b21feb59-4c5b-4f5b-bf0e-a76c5a99be79",
   "metadata": {},
   "outputs": [
    {
     "data": {
      "text/plain": [
       "np.float64(7.0)"
      ]
     },
     "execution_count": 189,
     "metadata": {},
     "output_type": "execute_result"
    }
   ],
   "source": [
    "arr.mean()"
   ]
  },
  {
   "cell_type": "code",
   "execution_count": 190,
   "id": "3ea8cad5-631a-470c-bd43-2b32b57ffea9",
   "metadata": {},
   "outputs": [
    {
     "data": {
      "text/plain": [
       "np.float64(4.320493798938574)"
      ]
     },
     "execution_count": 190,
     "metadata": {},
     "output_type": "execute_result"
    }
   ],
   "source": [
    "arr.std()"
   ]
  },
  {
   "cell_type": "code",
   "execution_count": 194,
   "id": "a0b5cd55-d7a5-483a-8038-556a53a0a1e2",
   "metadata": {},
   "outputs": [
    {
     "data": {
      "text/plain": [
       "np.float64(7.0)"
      ]
     },
     "execution_count": 194,
     "metadata": {},
     "output_type": "execute_result"
    }
   ],
   "source": [
    "np.median(arr)"
   ]
  },
  {
   "cell_type": "markdown",
   "id": "338d8950-63a9-49b0-b419-64d7426fea0f",
   "metadata": {},
   "source": [
    "## Min-Max"
   ]
  },
  {
   "cell_type": "code",
   "execution_count": 33,
   "id": "33fb2717-b9e5-499c-9bb1-8eb9519e8cd3",
   "metadata": {},
   "outputs": [
    {
     "data": {
      "text/plain": [
       "array([[ 1,  6,  5],\n",
       "       [ 4,  3,  7],\n",
       "       [ 9,  2, 55]])"
      ]
     },
     "execution_count": 33,
     "metadata": {},
     "output_type": "execute_result"
    }
   ],
   "source": [
    "arr = np.array([\n",
    "    [1,6,5],\n",
    "    [4,3,7],\n",
    "    [9, 2, 55]])\n",
    "arr"
   ]
  },
  {
   "cell_type": "code",
   "execution_count": 34,
   "id": "eaea49d9-b729-4463-9033-a4a8d21689fe",
   "metadata": {},
   "outputs": [
    {
     "data": {
      "text/plain": [
       "np.int64(1)"
      ]
     },
     "execution_count": 34,
     "metadata": {},
     "output_type": "execute_result"
    }
   ],
   "source": [
    "arr.min()"
   ]
  },
  {
   "cell_type": "code",
   "execution_count": 35,
   "id": "bd65d286-6962-414b-ac76-9743d799facf",
   "metadata": {},
   "outputs": [
    {
     "data": {
      "text/plain": [
       "np.int64(55)"
      ]
     },
     "execution_count": 35,
     "metadata": {},
     "output_type": "execute_result"
    }
   ],
   "source": [
    "arr.max()"
   ]
  },
  {
   "cell_type": "markdown",
   "id": "4b4beeb7-26d4-41ef-a2f9-8ca14bef0ad1",
   "metadata": {},
   "source": [
    "`Axis = 1` is row  \n",
    "This finds max value per row for all rows"
   ]
  },
  {
   "cell_type": "code",
   "execution_count": 36,
   "id": "e8b0843b-394e-4ab0-a592-52f35ffe8c98",
   "metadata": {},
   "outputs": [
    {
     "data": {
      "text/plain": [
       "array([ 6,  7, 55])"
      ]
     },
     "execution_count": 36,
     "metadata": {},
     "output_type": "execute_result"
    }
   ],
   "source": [
    "arr.max(axis=1)"
   ]
  },
  {
   "cell_type": "markdown",
   "id": "209839c4-eb37-4828-a522-a0c877d88609",
   "metadata": {},
   "source": [
    "`Axis = 0` is column  \n",
    "This finds max value for each column"
   ]
  },
  {
   "cell_type": "code",
   "execution_count": 207,
   "id": "777d5594-d1e2-4558-ad39-6d25d7e86faa",
   "metadata": {},
   "outputs": [
    {
     "data": {
      "text/plain": [
       "array([ 9,  6, 55])"
      ]
     },
     "execution_count": 207,
     "metadata": {},
     "output_type": "execute_result"
    }
   ],
   "source": [
    "arr.max(axis=0)"
   ]
  },
  {
   "cell_type": "markdown",
   "id": "7e33c6f0-866b-4ab8-8b93-93ec28a0041f",
   "metadata": {},
   "source": [
    "# Example Use and Power of NumPy\n",
    "\n",
    "Reflecting an image in numpy"
   ]
  },
  {
   "cell_type": "code",
   "execution_count": 40,
   "id": "95cd1b66-42d9-4728-b3c1-45605eb50504",
   "metadata": {},
   "outputs": [
    {
     "name": "stdout",
     "output_type": "stream",
     "text": [
      "Using matplotlib backend: module://matplotlib_inline.backend_inline\n"
     ]
    }
   ],
   "source": [
    "import numpy as np\n",
    "from PIL import Image\n",
    "import matplotlib.pyplot as plt\n",
    "\n",
    "%matplotlib"
   ]
  },
  {
   "cell_type": "code",
   "execution_count": 41,
   "id": "757b5fa5-bde0-478f-8555-cb199224e9b5",
   "metadata": {},
   "outputs": [],
   "source": [
    "# Read the image using PIL and convert it to a numpy array\n",
    "image_path = \"./images/CubeApart.png\"  # Replace with your image path"
   ]
  },
  {
   "cell_type": "code",
   "execution_count": 42,
   "id": "2e79f148-1fb1-4e43-a3c0-09d1ef6e68f2",
   "metadata": {},
   "outputs": [],
   "source": [
    "image = Image.open(image_path)\n",
    "image_np = np.array(image)"
   ]
  },
  {
   "cell_type": "code",
   "execution_count": 43,
   "id": "357a7248-48db-48fb-896e-67e724a85bef",
   "metadata": {
    "scrolled": true
   },
   "outputs": [
    {
     "data": {
      "text/plain": [
       "array([[[255, 255, 255],\n",
       "        [255, 255, 255],\n",
       "        [255, 255, 255],\n",
       "        ...,\n",
       "        [255, 255, 255],\n",
       "        [255, 255, 255],\n",
       "        [255, 255, 255]],\n",
       "\n",
       "       [[255, 255, 255],\n",
       "        [255, 255, 255],\n",
       "        [255, 255, 255],\n",
       "        ...,\n",
       "        [255, 255, 255],\n",
       "        [255, 255, 255],\n",
       "        [255, 255, 255]],\n",
       "\n",
       "       [[255, 255, 255],\n",
       "        [255, 255, 255],\n",
       "        [255, 255, 255],\n",
       "        ...,\n",
       "        [255, 255, 255],\n",
       "        [255, 255, 255],\n",
       "        [255, 255, 255]],\n",
       "\n",
       "       ...,\n",
       "\n",
       "       [[255, 255, 255],\n",
       "        [255, 255, 255],\n",
       "        [255, 255, 255],\n",
       "        ...,\n",
       "        [255, 255, 255],\n",
       "        [255, 255, 255],\n",
       "        [255, 255, 255]],\n",
       "\n",
       "       [[255, 255, 255],\n",
       "        [255, 255, 255],\n",
       "        [255, 255, 255],\n",
       "        ...,\n",
       "        [255, 255, 255],\n",
       "        [255, 255, 255],\n",
       "        [255, 255, 255]],\n",
       "\n",
       "       [[255, 255, 255],\n",
       "        [255, 255, 255],\n",
       "        [255, 255, 255],\n",
       "        ...,\n",
       "        [255, 255, 255],\n",
       "        [255, 255, 255],\n",
       "        [255, 255, 255]]], dtype=uint8)"
      ]
     },
     "execution_count": 43,
     "metadata": {},
     "output_type": "execute_result"
    }
   ],
   "source": [
    "image_np"
   ]
  },
  {
   "cell_type": "code",
   "execution_count": 44,
   "id": "23acfe47-104e-47c7-ba1b-48f84cf6f0be",
   "metadata": {},
   "outputs": [
    {
     "data": {
      "text/plain": [
       "dtype('uint8')"
      ]
     },
     "execution_count": 44,
     "metadata": {},
     "output_type": "execute_result"
    }
   ],
   "source": [
    "image_np.dtype"
   ]
  },
  {
   "cell_type": "code",
   "execution_count": 45,
   "id": "330e9ffd-58d3-4804-b4ed-2154b27a2f07",
   "metadata": {},
   "outputs": [
    {
     "name": "stdout",
     "output_type": "stream",
     "text": [
      "Shape of Image (772, 898, 3)\n",
      "Size of Image 2,079,768\n"
     ]
    }
   ],
   "source": [
    "print(\"Shape of Image\", image_np.shape)\n",
    "print(f\"Size of Image {image_np.size:,}\")"
   ]
  },
  {
   "cell_type": "code",
   "execution_count": 46,
   "id": "698bdec7-c098-4a44-804f-3b006512bfee",
   "metadata": {},
   "outputs": [],
   "source": [
    "# Reflect the image horizontally (flip left to right)\n",
    "# image_reflected = np.fliplr(image_np)\n",
    "\n",
    "# Alternatively, reflect the image vertically (flip top to bottom)\n",
    "image_reflected = np.flipud(image_np)"
   ]
  },
  {
   "cell_type": "markdown",
   "id": "829cfffd-81eb-4a07-81ed-000037731cad",
   "metadata": {},
   "source": [
    "```\n",
    "Before fliplr\n",
    "array([[1.,  0.,  0.],\n",
    "       [0.,  2.,  0.],\n",
    "       [0.,  0.,  3.]])\n",
    "\n",
    "After fliplr\n",
    "array([[0.,  0.,  1.],\n",
    "       [0.,  2.,  0.],\n",
    "       [3.,  0.,  0.]])\n",
    "```"
   ]
  },
  {
   "cell_type": "code",
   "execution_count": 47,
   "id": "45379622-bb17-4b67-9d02-7893c38f1e64",
   "metadata": {},
   "outputs": [],
   "source": [
    "# Convert the numpy array back to an image\n",
    "reflected_image = Image.fromarray(image_reflected)"
   ]
  },
  {
   "cell_type": "code",
   "execution_count": 48,
   "id": "eba30342-7687-41b1-a452-ac0a2b5566c5",
   "metadata": {},
   "outputs": [
    {
     "data": {
      "image/png": "[encoded data removed]",
      "text/plain": [
       "<Figure size 640x480 with 1 Axes>"
      ]
     },
     "metadata": {},
     "output_type": "display_data"
    }
   ],
   "source": [
    "plt.imshow(reflected_image)\n",
    "plt.axis('off')  # Hide axis for better visualization\n",
    "plt.show()"
   ]
  },
  {
   "cell_type": "code",
   "execution_count": null,
   "id": "8b736458-b822-46e7-a318-e670fb9f8a12",
   "metadata": {},
   "outputs": [],
   "source": []
  }
 ],
 "metadata": {
  "kernelspec": {
   "display_name": "Python 3 (ipykernel)",
   "language": "python",
   "name": "python3"
  },
  "language_info": {
   "codemirror_mode": {
    "name": "ipython",
    "version": 3
   },
   "file_extension": ".py",
   "mimetype": "text/x-python",
   "name": "python",
   "nbconvert_exporter": "python",
   "pygments_lexer": "ipython3",
   "version": "3.12.4"
  }
 },
 "nbformat": 4,
 "nbformat_minor": 5
}
