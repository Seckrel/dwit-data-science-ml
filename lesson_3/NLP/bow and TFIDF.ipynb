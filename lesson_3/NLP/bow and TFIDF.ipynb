{
 "cells": [
  {
   "cell_type": "code",
   "execution_count": 1,
   "id": "7f9271dd-677a-4476-8cd6-207e12220cc3",
   "metadata": {},
   "outputs": [],
   "source": [
    "from sklearn.feature_extraction.text import CountVectorizer, TfidfVectorizer"
   ]
  },
  {
   "cell_type": "code",
   "execution_count": 2,
   "id": "5633376f-810f-4fba-85e1-e54d1b057d85",
   "metadata": {},
   "outputs": [],
   "source": [
    "documents = [\n",
    "    \"The cat sat on the mat\",\n",
    "    \"The dog barked loudly\",\n",
    "    \"The cat chased the dog\"\n",
    "]"
   ]
  },
  {
   "cell_type": "markdown",
   "id": "0f02ae92-21ed-4f8d-8372-354f3ca320c7",
   "metadata": {},
   "source": [
    "# Bag of Words"
   ]
  },
  {
   "cell_type": "code",
   "execution_count": 3,
   "id": "72a1b5b1-d2f4-43a0-9d14-787efbc62fb2",
   "metadata": {},
   "outputs": [],
   "source": [
    "vectorizer = CountVectorizer()"
   ]
  },
  {
   "cell_type": "code",
   "execution_count": 4,
   "id": "bfa981d2-22d6-41e5-bf69-aab7a1fd2f7e",
   "metadata": {},
   "outputs": [],
   "source": [
    "X = vectorizer.fit_transform(documents)"
   ]
  },
  {
   "cell_type": "code",
   "execution_count": 6,
   "id": "c131662a-711c-4a14-8fe2-a5a4fcca5142",
   "metadata": {},
   "outputs": [
    {
     "data": {
      "text/plain": [
       "array([[0, 1, 0, 0, 0, 1, 1, 1, 2],\n",
       "       [1, 0, 0, 1, 1, 0, 0, 0, 1],\n",
       "       [0, 1, 1, 1, 0, 0, 0, 0, 2]])"
      ]
     },
     "execution_count": 6,
     "metadata": {},
     "output_type": "execute_result"
    }
   ],
   "source": [
    "bow = X.toarray()\n",
    "bow"
   ]
  },
  {
   "cell_type": "code",
   "execution_count": 7,
   "id": "90617029-9449-412a-9837-951bbea666fe",
   "metadata": {},
   "outputs": [
    {
     "name": "stdout",
     "output_type": "stream",
     "text": [
      "Feature Names: ['barked' 'cat' 'chased' 'dog' 'loudly' 'mat' 'on' 'sat' 'the']\n"
     ]
    }
   ],
   "source": [
    "print(\"Feature Names:\", vectorizer.get_feature_names_out())"
   ]
  },
  {
   "cell_type": "markdown",
   "id": "d9e1d31f-7d74-4037-be60-c25510e5745e",
   "metadata": {},
   "source": [
    "# TF-IDF"
   ]
  },
  {
   "cell_type": "code",
   "execution_count": 8,
   "id": "36f6727a-519e-4bf8-af4c-5fe814876205",
   "metadata": {},
   "outputs": [],
   "source": [
    "tfidf_vectorizer = TfidfVectorizer()"
   ]
  },
  {
   "cell_type": "code",
   "execution_count": 9,
   "id": "df720cae-5054-4e46-a036-3be530221adb",
   "metadata": {},
   "outputs": [
    {
     "data": {
      "text/plain": [
       "<Compressed Sparse Row sparse matrix of dtype 'float64'\n",
       "\twith 13 stored elements and shape (3, 9)>"
      ]
     },
     "execution_count": 9,
     "metadata": {},
     "output_type": "execute_result"
    }
   ],
   "source": [
    "X_tfidf = tfidf_vectorizer.fit_transform(documents)\n",
    "X_tfidf"
   ]
  },
  {
   "cell_type": "code",
   "execution_count": 10,
   "id": "96ecdfc6-66ce-4cbb-98bc-d58a562c52f4",
   "metadata": {},
   "outputs": [
    {
     "data": {
      "text/plain": [
       "array([[0.        , 0.34101521, 0.        , 0.        , 0.        ,\n",
       "        0.44839402, 0.44839402, 0.44839402, 0.52965746],\n",
       "       [0.5844829 , 0.        , 0.        , 0.44451431, 0.5844829 ,\n",
       "        0.        , 0.        , 0.        , 0.34520502],\n",
       "       [0.        , 0.40352536, 0.53058735, 0.40352536, 0.        ,\n",
       "        0.        , 0.        , 0.        , 0.62674687]])"
      ]
     },
     "execution_count": 10,
     "metadata": {},
     "output_type": "execute_result"
    }
   ],
   "source": [
    "tfidf_matrix = X_tfidf.toarray()\n",
    "tfidf_matrix"
   ]
  },
  {
   "cell_type": "code",
   "execution_count": 11,
   "id": "bcc100c1-d418-495b-8e8c-860c3ff2fcf7",
   "metadata": {},
   "outputs": [
    {
     "name": "stdout",
     "output_type": "stream",
     "text": [
      "Feature Names: ['barked' 'cat' 'chased' 'dog' 'loudly' 'mat' 'on' 'sat' 'the']\n"
     ]
    }
   ],
   "source": [
    "print(\"Feature Names:\", tfidf_vectorizer.get_feature_names_out())"
   ]
  },
  {
   "cell_type": "code",
   "execution_count": null,
   "id": "e9e8586a-1ccc-43c4-b74a-4c140b9228fa",
   "metadata": {},
   "outputs": [],
   "source": []
  }
 ],
 "metadata": {
  "kernelspec": {
   "display_name": "Python 3 (ipykernel)",
   "language": "python",
   "name": "python3"
  },
  "language_info": {
   "codemirror_mode": {
    "name": "ipython",
    "version": 3
   },
   "file_extension": ".py",
   "mimetype": "text/x-python",
   "name": "python",
   "nbconvert_exporter": "python",
   "pygments_lexer": "ipython3",
   "version": "3.12.4"
  }
 },
 "nbformat": 4,
 "nbformat_minor": 5
}
