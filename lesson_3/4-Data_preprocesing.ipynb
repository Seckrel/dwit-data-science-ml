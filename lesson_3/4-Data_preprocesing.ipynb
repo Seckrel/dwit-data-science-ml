{
 "cells": [
  {
   "cell_type": "code",
   "execution_count": 1,
   "id": "22812f9a-3e8a-4883-9420-d3323709fa3f",
   "metadata": {},
   "outputs": [],
   "source": [
    "import numpy as np"
   ]
  },
  {
   "cell_type": "markdown",
   "id": "e16196a7-c10f-4640-97ad-867e99de9b12",
   "metadata": {},
   "source": [
    "# Handling Missing Data"
   ]
  },
  {
   "cell_type": "code",
   "execution_count": 2,
   "id": "1ff8eb0f-04a8-4997-a070-5fc586f8aa97",
   "metadata": {},
   "outputs": [
    {
     "data": {
      "text/plain": [
       "array([[ 1. ,  2. ,  3. ],\n",
       "       [ 4. ,  2. ,  6. ],\n",
       "       [22. ,  8. ,  9. ],\n",
       "       [ 3.3,  8. ,  nan]])"
      ]
     },
     "execution_count": 2,
     "metadata": {},
     "output_type": "execute_result"
    }
   ],
   "source": [
    "data_with_missing_values = np.array([\n",
    "    [1.0, 2.0, 3],\n",
    "    [4.0, 2, 6.0],\n",
    "    [22, 8.0, 9.0],\n",
    "    [3.3, 8.0, np.nan],\n",
    "])\n",
    "data_with_missing_values"
   ]
  },
  {
   "cell_type": "markdown",
   "id": "7e5435d2-9cd6-435e-a3f7-fa494a68a3f4",
   "metadata": {},
   "source": [
    "# Ignoring Tuple\n",
    "Tuple in Data Science means rows  \n",
    "Ignoring Tuple will remove the row from table"
   ]
  },
  {
   "cell_type": "code",
   "execution_count": 3,
   "id": "3f1a1598-75c4-4c14-8f54-981ca5ecf619",
   "metadata": {},
   "outputs": [
    {
     "data": {
      "text/plain": [
       "array([False, False, False,  True])"
      ]
     },
     "execution_count": 3,
     "metadata": {},
     "output_type": "execute_result"
    }
   ],
   "source": [
    "rows_with_missing = np.any(np.isnan(data_with_missing_values), axis=1)\n",
    "rows_with_missing"
   ]
  },
  {
   "cell_type": "code",
   "execution_count": 11,
   "id": "93719ce6-fec3-4381-9504-2353e7aafcec",
   "metadata": {},
   "outputs": [
    {
     "data": {
      "text/plain": [
       "array([3])"
      ]
     },
     "execution_count": 11,
     "metadata": {},
     "output_type": "execute_result"
    }
   ],
   "source": [
    "missing_row_indices = np.where(rows_with_missing)[0]\n",
    "missing_row_indices"
   ]
  },
  {
   "cell_type": "code",
   "execution_count": 15,
   "id": "0352246f-b19e-40ac-a61a-ae1bfa8e7a35",
   "metadata": {},
   "outputs": [
    {
     "data": {
      "text/plain": [
       "array([[ 1.,  2.,  3.],\n",
       "       [ 4.,  2.,  6.],\n",
       "       [22.,  8.,  9.]])"
      ]
     },
     "execution_count": 15,
     "metadata": {},
     "output_type": "execute_result"
    }
   ],
   "source": [
    "np.delete(data_with_missing_values, missing_row_indices, axis=0)"
   ]
  },
  {
   "cell_type": "markdown",
   "id": "4f5d0aef-6976-446a-a4ed-787e82c1678f",
   "metadata": {},
   "source": [
    "- 4th row is removed cause it has null value"
   ]
  },
  {
   "cell_type": "markdown",
   "id": "da4641e3-b09e-497a-b93d-88c62bfedcfa",
   "metadata": {},
   "source": [
    "## Using Global Constant"
   ]
  },
  {
   "cell_type": "code",
   "execution_count": 13,
   "id": "300478b0-58f4-4d0f-a88c-634ecf9cbf8b",
   "metadata": {},
   "outputs": [
    {
     "data": {
      "text/plain": [
       "array([[ 1.,  2., nan],\n",
       "       [ 4., nan,  6.],\n",
       "       [nan,  8.,  9.],\n",
       "       [nan,  8., nan]])"
      ]
     },
     "execution_count": 13,
     "metadata": {},
     "output_type": "execute_result"
    }
   ],
   "source": [
    "data_with_missing_values = np.array([\n",
    "    [1.0, 2.0, np.nan],\n",
    "    [4.0, np.nan, 6.0],\n",
    "    [np.nan, 8.0, 9.0],\n",
    "    [np.nan, 8.0, np.nan],\n",
    "])\n",
    "data_with_missing_values"
   ]
  },
  {
   "cell_type": "code",
   "execution_count": 14,
   "id": "dba5009d-fac8-45ff-8d66-8a7d41f0964a",
   "metadata": {},
   "outputs": [
    {
     "data": {
      "text/plain": [
       "array([[ 1.,  2., -1.],\n",
       "       [ 4., -1.,  6.],\n",
       "       [-1.,  8.,  9.],\n",
       "       [-1.,  8., -1.]])"
      ]
     },
     "execution_count": 14,
     "metadata": {},
     "output_type": "execute_result"
    }
   ],
   "source": [
    "np.nan_to_num(data_with_missing_values, nan=-1)"
   ]
  },
  {
   "cell_type": "markdown",
   "id": "ead0559a-9360-4ac7-9996-6b7476c33a55",
   "metadata": {},
   "source": [
    "## Imputation\n",
    "It is the process of filling missing data using various statistical means"
   ]
  },
  {
   "cell_type": "code",
   "execution_count": 15,
   "id": "1162c2f5-48c0-4864-be61-ce966c9b9302",
   "metadata": {},
   "outputs": [],
   "source": [
    "data_with_missing_values = np.array([\n",
    "    [1.0, 2.0, np.nan],\n",
    "    [4.0, np.nan, 6.0],\n",
    "    [np.nan, 8.0, 9.0],\n",
    "    [np.nan, 8.0, np.nan],\n",
    "])"
   ]
  },
  {
   "cell_type": "markdown",
   "id": "76643bcf-1323-4f4d-ba16-8c9c65563169",
   "metadata": {},
   "source": [
    "### Imputation By Mean"
   ]
  },
  {
   "cell_type": "code",
   "execution_count": 18,
   "id": "b8cbb240-41f7-4c49-b85d-33e70d774eb2",
   "metadata": {},
   "outputs": [
    {
     "data": {
      "text/plain": [
       "array([2.5, 6. , 7.5])"
      ]
     },
     "execution_count": 18,
     "metadata": {},
     "output_type": "execute_result"
    }
   ],
   "source": [
    "column_means = np.nanmean(data_with_missing_values, axis=0)\n",
    "column_means"
   ]
  },
  {
   "cell_type": "code",
   "execution_count": 19,
   "id": "4f9575ca-2abd-4ff0-b948-d5282a2c795d",
   "metadata": {},
   "outputs": [
    {
     "data": {
      "text/plain": [
       "array([[False, False,  True],\n",
       "       [False,  True, False],\n",
       "       [ True, False, False],\n",
       "       [ True, False,  True]])"
      ]
     },
     "execution_count": 19,
     "metadata": {},
     "output_type": "execute_result"
    }
   ],
   "source": [
    "nan_indices = np.isnan(data_with_missing_values)\n",
    "nan_indices"
   ]
  },
  {
   "cell_type": "code",
   "execution_count": 28,
   "id": "131c59f2-9709-47a4-8108-2f399d00bd09",
   "metadata": {},
   "outputs": [
    {
     "data": {
      "text/plain": [
       "array([2, 1, 0, 0, 2])"
      ]
     },
     "execution_count": 28,
     "metadata": {},
     "output_type": "execute_result"
    }
   ],
   "source": [
    "np.where(nan_indices)[1]\n"
   ]
  },
  {
   "cell_type": "code",
   "execution_count": 29,
   "id": "2a9db63c-929f-4912-8158-3970e5358cb1",
   "metadata": {},
   "outputs": [
    {
     "data": {
      "text/plain": [
       "array([7.5, 6. , 2.5, 2.5, 7.5])"
      ]
     },
     "execution_count": 29,
     "metadata": {},
     "output_type": "execute_result"
    }
   ],
   "source": [
    "np.take(column_means, np.where(nan_indices)[1])"
   ]
  },
  {
   "cell_type": "code",
   "execution_count": 30,
   "id": "ddf652ab-8c4b-4324-a491-2f95c7088083",
   "metadata": {},
   "outputs": [],
   "source": [
    "data_withou_missing_value = data_with_missing_values.copy()\n",
    "data_withou_missing_value[nan_indices] = np.take(column_means, np.where(nan_indices)[1])"
   ]
  },
  {
   "cell_type": "code",
   "execution_count": 31,
   "id": "36e2fbc7-b392-4b58-9206-34aaf382d272",
   "metadata": {},
   "outputs": [
    {
     "data": {
      "text/plain": [
       "array([[1. , 2. , 7.5],\n",
       "       [4. , 6. , 6. ],\n",
       "       [2.5, 8. , 9. ],\n",
       "       [2.5, 8. , 7.5]])"
      ]
     },
     "execution_count": 31,
     "metadata": {},
     "output_type": "execute_result"
    }
   ],
   "source": [
    "data_withou_missing_value"
   ]
  },
  {
   "cell_type": "markdown",
   "id": "4ffa44ef-26ff-4093-bfbe-8df0e14e779d",
   "metadata": {},
   "source": [
    "### Imputation By Media"
   ]
  },
  {
   "cell_type": "code",
   "execution_count": 32,
   "id": "789c15fa-4554-4555-acac-5f32bd74ee7f",
   "metadata": {},
   "outputs": [
    {
     "data": {
      "text/plain": [
       "array([2.5, 8. , 7.5])"
      ]
     },
     "execution_count": 32,
     "metadata": {},
     "output_type": "execute_result"
    }
   ],
   "source": [
    "column_median = np.nanmedian(data_with_missing_values, axis=0)\n",
    "column_median"
   ]
  },
  {
   "cell_type": "code",
   "execution_count": 33,
   "id": "e951ce9b-4d23-4b61-b8e7-99747882c40d",
   "metadata": {},
   "outputs": [
    {
     "data": {
      "text/plain": [
       "array([[False, False,  True],\n",
       "       [False,  True, False],\n",
       "       [ True, False, False],\n",
       "       [ True, False,  True]])"
      ]
     },
     "execution_count": 33,
     "metadata": {},
     "output_type": "execute_result"
    }
   ],
   "source": [
    "nan_indices = np.isnan(data_with_missing_values)\n",
    "nan_indices"
   ]
  },
  {
   "cell_type": "code",
   "execution_count": 34,
   "id": "54bd73ab-890b-4e02-8783-1acdd2f4d2a4",
   "metadata": {},
   "outputs": [
    {
     "data": {
      "text/plain": [
       "array([[1. , 2. , 7.5],\n",
       "       [4. , 8. , 6. ],\n",
       "       [2.5, 8. , 9. ],\n",
       "       [2.5, 8. , 7.5]])"
      ]
     },
     "execution_count": 34,
     "metadata": {},
     "output_type": "execute_result"
    }
   ],
   "source": [
    "data_withou_missing_value = data_with_missing_values.copy()\n",
    "data_withou_missing_value[nan_indices] = np.take(column_median, np.where(nan_indices)[1])\n",
    "data_withou_missing_value"
   ]
  },
  {
   "cell_type": "markdown",
   "id": "7457972d-9b31-4578-b5b3-5a3c8aabaa80",
   "metadata": {},
   "source": [
    "## Handling Noisy Data\n",
    "\n",
    "- Binnning\n",
    "- Regression\n",
    "- Clustering"
   ]
  },
  {
   "cell_type": "code",
   "execution_count": 35,
   "id": "4c0a0dfe-ad20-41e8-98fa-548d8b0ba853",
   "metadata": {},
   "outputs": [
    {
     "data": {
      "text/plain": [
       "array([ 4,  8, 15, 21, 21, 24, 25, 28, 34])"
      ]
     },
     "execution_count": 35,
     "metadata": {},
     "output_type": "execute_result"
    }
   ],
   "source": [
    "raw_data = np.array([4, 8, 15, 21, 21, 24, 25, 28, 34])\n",
    "raw_data"
   ]
  },
  {
   "cell_type": "code",
   "execution_count": 36,
   "id": "33a83c03-56e5-4342-9120-910913078141",
   "metadata": {},
   "outputs": [
    {
     "data": {
      "text/plain": [
       "array([ 4,  8, 15, 21, 21, 24, 25, 28, 34])"
      ]
     },
     "execution_count": 36,
     "metadata": {},
     "output_type": "execute_result"
    }
   ],
   "source": [
    "sorted_data = np.sort(raw_data)\n",
    "sorted_data"
   ]
  },
  {
   "cell_type": "code",
   "execution_count": 37,
   "id": "0edaf9ed-db47-4b98-b1db-9a1b5a69de9a",
   "metadata": {},
   "outputs": [],
   "source": [
    "len_arr = len(sorted_data)\n",
    "bin_start = 0\n",
    "bin_size = 3\n",
    "bin_end = len_arr // bin_size"
   ]
  },
  {
   "cell_type": "code",
   "execution_count": 38,
   "id": "45389a4a-88f6-452f-9b67-d4a7706d339b",
   "metadata": {},
   "outputs": [],
   "source": [
    "bin_list = []\n",
    "for i in range(bin_size):\n",
    "    if bin_end < len_arr:\n",
    "        bin_list.append(sorted_data[bin_start:bin_end])\n",
    "    else:\n",
    "        bin_list.append(sorted_data[bin_start:])\n",
    "    bin_start, bin_end = bin_end, bin_end + bin_size"
   ]
  },
  {
   "cell_type": "code",
   "execution_count": 39,
   "id": "cc2f59c3-0021-48e6-952c-6a01291cd152",
   "metadata": {},
   "outputs": [
    {
     "data": {
      "text/plain": [
       "[array([ 4,  8, 15]), array([21, 21, 24]), array([25, 28, 34])]"
      ]
     },
     "execution_count": 39,
     "metadata": {},
     "output_type": "execute_result"
    }
   ],
   "source": [
    "bin_list "
   ]
  },
  {
   "cell_type": "code",
   "execution_count": 40,
   "id": "39a96151-0dc7-420f-b97c-b816d8fdfbf4",
   "metadata": {},
   "outputs": [
    {
     "data": {
      "text/plain": [
       "array([[ 4,  8, 15],\n",
       "       [21, 21, 24],\n",
       "       [25, 28, 34]])"
      ]
     },
     "execution_count": 40,
     "metadata": {},
     "output_type": "execute_result"
    }
   ],
   "source": [
    "bin_arr = np.array(bin_list)\n",
    "bin_arr"
   ]
  },
  {
   "cell_type": "markdown",
   "id": "d9c9cd05-96b3-4968-9474-10dd0cc20a4c",
   "metadata": {},
   "source": [
    "**reshape(-1, 1)**\n",
    "- -1: This is a special value in NumPy's reshape method. It tells NumPy to infer the size of this dimension based on the size of the other dimensions and the total number of elements in the array. Essentially, NumPy will figure out how many rows are needed automatically to accommodate all the elements while ensuring the number of columns is 1.\n",
    "\n",
    "- 1: This indicates that we want to reshape the array into 1 column.\n",
    "\n"
   ]
  },
  {
   "cell_type": "code",
   "execution_count": 45,
   "id": "47d5c1fa-a349-4041-95fd-4e085668c132",
   "metadata": {},
   "outputs": [
    {
     "data": {
      "text/plain": [
       "array([[ 9.],\n",
       "       [22.],\n",
       "       [29.]])"
      ]
     },
     "execution_count": 45,
     "metadata": {},
     "output_type": "execute_result"
    }
   ],
   "source": [
    "row_means = np.mean(bin_arr, axis=1).reshape(-1, 1)\n",
    "row_means"
   ]
  },
  {
   "cell_type": "code",
   "execution_count": 46,
   "id": "227f9fd8-a440-4369-bfa3-ae87245e26b1",
   "metadata": {},
   "outputs": [],
   "source": [
    "array_with_row_means = np.tile(row_means, bin_arr.shape[1])"
   ]
  },
  {
   "cell_type": "markdown",
   "id": "c5041539-1390-4030-99ca-d4fda5f95671",
   "metadata": {},
   "source": [
    "row_means: This is a 1D array containing the means of each row. After computing the mean for each row, we have an array of means. For example, if row_means is [9.0, 22.0, 29.0], it means each row in the original array should be replaced by its corresponding mean.\n",
    "\n",
    "array.shape[1]: This returns the number of columns in the original array. It represents how many times to repeat each element of row_means across the columns of the new array. For example, if the original array has 3 columns, array.shape[1] would be 3.\n",
    "\n",
    "np.tile(row_means, array.shape[1]): This repeats the row_means array horizontally (along the columns) to match the number of columns in the original array.|"
   ]
  },
  {
   "cell_type": "code",
   "execution_count": 47,
   "id": "fb98ebe1-cc19-4973-9327-1f589bfc4baf",
   "metadata": {},
   "outputs": [
    {
     "data": {
      "text/plain": [
       "array([[ 9.,  9.,  9.],\n",
       "       [22., 22., 22.],\n",
       "       [29., 29., 29.]])"
      ]
     },
     "execution_count": 47,
     "metadata": {},
     "output_type": "execute_result"
    }
   ],
   "source": [
    "array_with_row_means"
   ]
  },
  {
   "cell_type": "markdown",
   "id": "3315bca2-3c65-4d9d-b3fb-dca22d142868",
   "metadata": {},
   "source": [
    "## Normalization"
   ]
  },
  {
   "cell_type": "markdown",
   "id": "bbe35e03-1dcf-416b-96cc-1258861322a5",
   "metadata": {},
   "source": [
    "Min-Max Normalization is a technique used to scale the values of a feature to a fixed range, usually [0, 1]. The formula for Min-Max normalization is:\n",
    "\n",
    "$$\n",
    "x_{\\text{norm}} = \\frac{x - x_{\\text{min}}}{x_{\\text{max}} - x_{\\text{min}}}\n",
    "$$\n",
    "\n",
    "Where:\n",
    "$$\n",
    "\\begin{array}{l}\n",
    "x \\text{ is the original value,} \\\\\n",
    "x_{\\text{min}} \\text{ is the minimum value in the feature,} \\\\\n",
    "x_{\\text{max}} \\text{ is the maximum value in the feature,} \\\\\n",
    "x_{\\text{norm}} \\text{ is the normalized value after.}\n",
    "\\end{array}\n",
    "$$ \n"
   ]
  },
  {
   "cell_type": "code",
   "execution_count": 48,
   "id": "53809375-5510-4762-a157-e03d686b0a4c",
   "metadata": {},
   "outputs": [
    {
     "data": {
      "text/plain": [
       "array([  0,   3,   6,   9,  12,  15,  18,  21,  24,  27,  30,  33,  36,\n",
       "        39,  42,  45,  48,  51,  54,  57,  60,  63,  66,  69,  72,  75,\n",
       "        78,  81,  84,  87,  90,  93,  96,  99, 102, 105, 108, 111, 114,\n",
       "       117, 120, 123, 126, 129, 132, 135, 138, 141, 144, 147, 150, 153,\n",
       "       156, 159, 162, 165, 168, 171, 174, 177, 180, 183, 186, 189, 192,\n",
       "       195, 198, 201, 204, 207, 210, 213, 216, 219, 222, 225, 228, 231,\n",
       "       234, 237, 240, 243, 246, 249, 252, 255, 258, 261, 264, 267, 270,\n",
       "       273, 276, 279, 282, 285, 288, 291, 294, 297, 300, 303, 306, 309,\n",
       "       312, 315, 318, 321, 324, 327, 330, 333, 336, 339, 342, 345, 348,\n",
       "       351, 354, 357, 360, 363, 366, 369, 372, 375, 378, 381, 384, 387,\n",
       "       390, 393, 396, 399, 402, 405, 408, 411, 414, 417, 420, 423, 426,\n",
       "       429, 432, 435, 438, 441, 444, 447, 450, 453, 456, 459, 462, 465,\n",
       "       468, 471, 474, 477, 480, 483, 486, 489, 492, 495, 498, 501, 504,\n",
       "       507, 510, 513, 516, 519, 522, 525, 528, 531, 534, 537, 540, 543,\n",
       "       546, 549, 552, 555, 558, 561, 564, 567, 570, 573, 576, 579, 582,\n",
       "       585, 588, 591, 594, 597, 600, 603, 606, 609, 612, 615, 618, 621,\n",
       "       624, 627, 630, 633, 636, 639, 642, 645, 648, 651, 654, 657, 660,\n",
       "       663, 666, 669, 672, 675, 678, 681, 684, 687, 690, 693, 696, 699,\n",
       "       702, 705, 708, 711, 714, 717, 720, 723, 726, 729, 732, 735, 738,\n",
       "       741, 744, 747, 750, 753, 756, 759, 762, 765, 768, 771, 774, 777,\n",
       "       780, 783, 786, 789, 792, 795, 798, 801, 804, 807, 810, 813, 816,\n",
       "       819, 822, 825, 828, 831, 834, 837, 840, 843, 846, 849, 852, 855,\n",
       "       858, 861, 864, 867, 870, 873, 876, 879, 882, 885, 888, 891, 894,\n",
       "       897, 900, 903, 906, 909, 912, 915, 918, 921, 924, 927, 930, 933,\n",
       "       936, 939, 942, 945, 948, 951, 954, 957, 960, 963, 966, 969, 972,\n",
       "       975, 978, 981, 984, 987, 990, 993, 996, 999])"
      ]
     },
     "execution_count": 48,
     "metadata": {},
     "output_type": "execute_result"
    }
   ],
   "source": [
    "un_norm_arr = np.arange(0, 1000, 3)\n",
    "un_norm_arr"
   ]
  },
  {
   "cell_type": "code",
   "execution_count": 49,
   "id": "a78f164c-09c8-478e-bea6-10b071f6cd07",
   "metadata": {},
   "outputs": [],
   "source": [
    "# To Covert this to -1 to 1\n",
    "x_min = un_norm_arr.min()  # Minimum value\n",
    "x_max = un_norm_arr.max()"
   ]
  },
  {
   "cell_type": "code",
   "execution_count": 50,
   "id": "10245538-d679-4e13-99d8-16ac581c958f",
   "metadata": {},
   "outputs": [],
   "source": [
    "normalized_arr = 2 * (un_norm_arr - x_min) / (x_max - x_min) - 1"
   ]
  },
  {
   "cell_type": "code",
   "execution_count": 51,
   "id": "c6302c17-7a7b-4139-9a6d-d8c92e99f113",
   "metadata": {},
   "outputs": [
    {
     "data": {
      "text/plain": [
       "array([-1.        , -0.99399399, -0.98798799, -0.98198198, -0.97597598,\n",
       "       -0.96996997, -0.96396396, -0.95795796, -0.95195195, -0.94594595,\n",
       "       -0.93993994, -0.93393393, -0.92792793, -0.92192192, -0.91591592,\n",
       "       -0.90990991, -0.9039039 , -0.8978979 , -0.89189189, -0.88588589,\n",
       "       -0.87987988, -0.87387387, -0.86786787, -0.86186186, -0.85585586,\n",
       "       -0.84984985, -0.84384384, -0.83783784, -0.83183183, -0.82582583,\n",
       "       -0.81981982, -0.81381381, -0.80780781, -0.8018018 , -0.7957958 ,\n",
       "       -0.78978979, -0.78378378, -0.77777778, -0.77177177, -0.76576577,\n",
       "       -0.75975976, -0.75375375, -0.74774775, -0.74174174, -0.73573574,\n",
       "       -0.72972973, -0.72372372, -0.71771772, -0.71171171, -0.70570571,\n",
       "       -0.6996997 , -0.69369369, -0.68768769, -0.68168168, -0.67567568,\n",
       "       -0.66966967, -0.66366366, -0.65765766, -0.65165165, -0.64564565,\n",
       "       -0.63963964, -0.63363363, -0.62762763, -0.62162162, -0.61561562,\n",
       "       -0.60960961, -0.6036036 , -0.5975976 , -0.59159159, -0.58558559,\n",
       "       -0.57957958, -0.57357357, -0.56756757, -0.56156156, -0.55555556,\n",
       "       -0.54954955, -0.54354354, -0.53753754, -0.53153153, -0.52552553,\n",
       "       -0.51951952, -0.51351351, -0.50750751, -0.5015015 , -0.4954955 ,\n",
       "       -0.48948949, -0.48348348, -0.47747748, -0.47147147, -0.46546547,\n",
       "       -0.45945946, -0.45345345, -0.44744745, -0.44144144, -0.43543544,\n",
       "       -0.42942943, -0.42342342, -0.41741742, -0.41141141, -0.40540541,\n",
       "       -0.3993994 , -0.39339339, -0.38738739, -0.38138138, -0.37537538,\n",
       "       -0.36936937, -0.36336336, -0.35735736, -0.35135135, -0.34534535,\n",
       "       -0.33933934, -0.33333333, -0.32732733, -0.32132132, -0.31531532,\n",
       "       -0.30930931, -0.3033033 , -0.2972973 , -0.29129129, -0.28528529,\n",
       "       -0.27927928, -0.27327327, -0.26726727, -0.26126126, -0.25525526,\n",
       "       -0.24924925, -0.24324324, -0.23723724, -0.23123123, -0.22522523,\n",
       "       -0.21921922, -0.21321321, -0.20720721, -0.2012012 , -0.1951952 ,\n",
       "       -0.18918919, -0.18318318, -0.17717718, -0.17117117, -0.16516517,\n",
       "       -0.15915916, -0.15315315, -0.14714715, -0.14114114, -0.13513514,\n",
       "       -0.12912913, -0.12312312, -0.11711712, -0.11111111, -0.10510511,\n",
       "       -0.0990991 , -0.09309309, -0.08708709, -0.08108108, -0.07507508,\n",
       "       -0.06906907, -0.06306306, -0.05705706, -0.05105105, -0.04504505,\n",
       "       -0.03903904, -0.03303303, -0.02702703, -0.02102102, -0.01501502,\n",
       "       -0.00900901, -0.003003  ,  0.003003  ,  0.00900901,  0.01501502,\n",
       "        0.02102102,  0.02702703,  0.03303303,  0.03903904,  0.04504505,\n",
       "        0.05105105,  0.05705706,  0.06306306,  0.06906907,  0.07507508,\n",
       "        0.08108108,  0.08708709,  0.09309309,  0.0990991 ,  0.10510511,\n",
       "        0.11111111,  0.11711712,  0.12312312,  0.12912913,  0.13513514,\n",
       "        0.14114114,  0.14714715,  0.15315315,  0.15915916,  0.16516517,\n",
       "        0.17117117,  0.17717718,  0.18318318,  0.18918919,  0.1951952 ,\n",
       "        0.2012012 ,  0.20720721,  0.21321321,  0.21921922,  0.22522523,\n",
       "        0.23123123,  0.23723724,  0.24324324,  0.24924925,  0.25525526,\n",
       "        0.26126126,  0.26726727,  0.27327327,  0.27927928,  0.28528529,\n",
       "        0.29129129,  0.2972973 ,  0.3033033 ,  0.30930931,  0.31531532,\n",
       "        0.32132132,  0.32732733,  0.33333333,  0.33933934,  0.34534535,\n",
       "        0.35135135,  0.35735736,  0.36336336,  0.36936937,  0.37537538,\n",
       "        0.38138138,  0.38738739,  0.39339339,  0.3993994 ,  0.40540541,\n",
       "        0.41141141,  0.41741742,  0.42342342,  0.42942943,  0.43543544,\n",
       "        0.44144144,  0.44744745,  0.45345345,  0.45945946,  0.46546547,\n",
       "        0.47147147,  0.47747748,  0.48348348,  0.48948949,  0.4954955 ,\n",
       "        0.5015015 ,  0.50750751,  0.51351351,  0.51951952,  0.52552553,\n",
       "        0.53153153,  0.53753754,  0.54354354,  0.54954955,  0.55555556,\n",
       "        0.56156156,  0.56756757,  0.57357357,  0.57957958,  0.58558559,\n",
       "        0.59159159,  0.5975976 ,  0.6036036 ,  0.60960961,  0.61561562,\n",
       "        0.62162162,  0.62762763,  0.63363363,  0.63963964,  0.64564565,\n",
       "        0.65165165,  0.65765766,  0.66366366,  0.66966967,  0.67567568,\n",
       "        0.68168168,  0.68768769,  0.69369369,  0.6996997 ,  0.70570571,\n",
       "        0.71171171,  0.71771772,  0.72372372,  0.72972973,  0.73573574,\n",
       "        0.74174174,  0.74774775,  0.75375375,  0.75975976,  0.76576577,\n",
       "        0.77177177,  0.77777778,  0.78378378,  0.78978979,  0.7957958 ,\n",
       "        0.8018018 ,  0.80780781,  0.81381381,  0.81981982,  0.82582583,\n",
       "        0.83183183,  0.83783784,  0.84384384,  0.84984985,  0.85585586,\n",
       "        0.86186186,  0.86786787,  0.87387387,  0.87987988,  0.88588589,\n",
       "        0.89189189,  0.8978979 ,  0.9039039 ,  0.90990991,  0.91591592,\n",
       "        0.92192192,  0.92792793,  0.93393393,  0.93993994,  0.94594595,\n",
       "        0.95195195,  0.95795796,  0.96396396,  0.96996997,  0.97597598,\n",
       "        0.98198198,  0.98798799,  0.99399399,  1.        ])"
      ]
     },
     "execution_count": 51,
     "metadata": {},
     "output_type": "execute_result"
    }
   ],
   "source": [
    "normalized_arr"
   ]
  },
  {
   "cell_type": "code",
   "execution_count": null,
   "id": "3b954f55-c96e-4a49-ad8c-f039716631c5",
   "metadata": {},
   "outputs": [],
   "source": []
  }
 ],
 "metadata": {
  "kernelspec": {
   "display_name": "Python 3 (ipykernel)",
   "language": "python",
   "name": "python3"
  },
  "language_info": {
   "codemirror_mode": {
    "name": "ipython",
    "version": 3
   },
   "file_extension": ".py",
   "mimetype": "text/x-python",
   "name": "python",
   "nbconvert_exporter": "python",
   "pygments_lexer": "ipython3",
   "version": "3.12.4"
  }
 },
 "nbformat": 4,
 "nbformat_minor": 5
}
