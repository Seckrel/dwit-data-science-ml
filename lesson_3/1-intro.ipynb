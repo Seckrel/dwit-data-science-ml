{
 "cells": [
  {
   "cell_type": "markdown",
   "id": "37103fa7-066d-4b5a-bcd8-40a88ac14719",
   "metadata": {},
   "source": [
    "# Table of Contents\n",
    "1. [Lesson 1](#Lesson-1)\n",
    "2. [lesson 2](#Lesson-2)\n"
   ]
  },
  {
   "cell_type": "code",
   "execution_count": 1,
   "id": "cba4253b-fb4f-475c-9578-4d78fbb431c6",
   "metadata": {},
   "outputs": [
    {
     "name": "stdout",
     "output_type": "stream",
     "text": [
      "hello\n"
     ]
    }
   ],
   "source": [
    "print(\"hello\")"
   ]
  },
  {
   "cell_type": "markdown",
   "id": "70a65997-9c96-4716-991a-bdd7db776e51",
   "metadata": {
    "jp-MarkdownHeadingCollapsed": true
   },
   "source": [
    "# Lesson 1"
   ]
  },
  {
   "cell_type": "markdown",
   "id": "48961471-53f0-44a0-8b6f-77438fbd3c48",
   "metadata": {},
   "source": [
    "Lesson 1 is good"
   ]
  },
  {
   "cell_type": "markdown",
   "id": "a09dfc56-5b45-4d43-bd89-fdbab8db1e2b",
   "metadata": {},
   "source": [
    "$$c = \\sqrt{a^2 + b^2}$$"
   ]
  },
  {
   "cell_type": "code",
   "execution_count": 2,
   "id": "606b3663-6e22-426c-a3f7-c313024e847b",
   "metadata": {},
   "outputs": [
    {
     "name": "stdout",
     "output_type": "stream",
     "text": [
      "heelo\n"
     ]
    }
   ],
   "source": [
    "print('heelo')"
   ]
  },
  {
   "cell_type": "markdown",
   "id": "5bbe4267-0e69-4ecc-ae3e-11d6fe1386f4",
   "metadata": {},
   "source": [
    "# Lesson 2"
   ]
  },
  {
   "cell_type": "markdown",
   "id": "a166fb00-bf27-497b-b381-ab26cb6b6406",
   "metadata": {},
   "source": [
    "lesson 2 not so good"
   ]
  },
  {
   "cell_type": "code",
   "execution_count": 3,
   "id": "d8828865-1771-4e92-bd32-7923c1cdd832",
   "metadata": {},
   "outputs": [
    {
     "name": "stdout",
     "output_type": "stream",
     "text": [
      "bye\n"
     ]
    }
   ],
   "source": [
    "print('bye')"
   ]
  },
  {
   "cell_type": "code",
   "execution_count": null,
   "id": "acd5e730-6b59-49dc-9c99-f7dbcdc0bc0b",
   "metadata": {},
   "outputs": [],
   "source": []
  }
 ],
 "metadata": {
  "kernelspec": {
   "display_name": "Python 3 (ipykernel)",
   "language": "python",
   "name": "python3"
  },
  "language_info": {
   "codemirror_mode": {
    "name": "ipython",
    "version": 3
   },
   "file_extension": ".py",
   "mimetype": "text/x-python",
   "name": "python",
   "nbconvert_exporter": "python",
   "pygments_lexer": "ipython3",
   "version": "3.12.4"
  }
 },
 "nbformat": 4,
 "nbformat_minor": 5
}
