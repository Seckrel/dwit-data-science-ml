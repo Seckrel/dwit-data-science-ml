{
 "cells": [
  {
   "cell_type": "markdown",
   "id": "8b21f282-0c31-4380-bcc2-eb648f353ac8",
   "metadata": {},
   "source": [
    "# Clustering\n",
    "Clustering is a type of unsupervised learning where the goal is to group similar data points into clusters or groups. Each group contains data points that are more similar to each other than to those in other groups. The primary objective is to discover hidden patterns or structures in data without prior labels or supervision.\n",
    "\n",
    "In essence, clustering attempts to divide a dataset into subgroups that share common traits or features, with the aim of finding natural groupings in the data.\n",
    "\n"
   ]
  },
  {
   "cell_type": "markdown",
   "id": "3b094cea-b879-48d2-b0eb-57994e43e409",
   "metadata": {},
   "source": [
    "# Algorithms"
   ]
  },
  {
   "attachments": {},
   "cell_type": "markdown",
   "id": "5a7f8eb8-efef-4216-be24-5bd6f9b6700f",
   "metadata": {},
   "source": [
    "## K-Nearest Neighbors (KNN)\n",
    "- It is the simplest technique and basic algorithm for clustering\n",
    "- We first choose k initial centroids, where k is user specified parameter namely, the number of cluster desired\n",
    "- Each point is then assigned to the closest centroid, and each collection of points assigned to a centroid is a cluster\n",
    "- We repeat the assignment and update steps until no point change cluster, or equivalently until centroids remain the same\n",
    "\n",
    "**Calculate Distance**\n",
    "- Manhattan Distance\n",
    "$$\n",
    "dis. = |x_{i} - y_{i}|\n",
    "$$\n",
    "\n",
    "- Euclidean Distance (Most Common)\n",
    "$$\n",
    "dist. = \\sqrt{(x_{i} - y_{i})^{2}}\n",
    "$$\n"
   ]
  },
  {
   "cell_type": "markdown",
   "id": "72eeb87d-b742-48fd-a07a-9b87702c9d33",
   "metadata": {},
   "source": [
    "| Data Point | x-coordinate | y-coordinate |\n",
    "|------------|--------------|--------------|\n",
    "| A          | 2            | 10           |\n",
    "| B          | 2            | 5            |\n",
    "| C          | 8            | 4            |\n",
    "| D          | 5            | 8            |\n",
    "| E          | 7            | 5            |\n",
    "| F          | 6            | 4            |\n"
   ]
  },
  {
   "cell_type": "markdown",
   "id": "6bc5f879-6250-4a17-a301-8efa874e07c3",
   "metadata": {},
   "source": [
    "## Goal\n",
    "Cluster the data into 2 clusters (K=2).\n",
    "\n",
    "**Step 1: Initialization**\n",
    "We randomly choose 2 initial centroids from the dataset:\n",
    "\n",
    "Centroid 1 (C1): (2, 10)\n",
    "Centroid 2 (C2): (5, 8)\n",
    "\n",
    "**Step 2: Assign Data Points to Clusters**\n",
    "For each data point, compute the Euclidean distance to each centroid:\n",
    "\n",
    "Distance Formula:\n",
    "$$\n",
    "dist. = \\sqrt{(x_{i} - y_{i})^{2}}\n",
    "$$\n",
    "\n",
    "**Calculations:**\n",
    "### Distance of A (2, 10) to:\n",
    "- **C1**: $\\sqrt{(2-2)^2 + (10-10)^2} = 0$\n",
    "- **C2**: $\\sqrt{(5-2)^2 + (8-10)^2} = \\sqrt{9 + 4} = 3.61$\n",
    "\n",
    "**Assign A to Cluster 1 (closer to C1).**\n",
    "\n",
    "---\n",
    "\n",
    "### Distance of B (2, 5) to:\n",
    "- **C1**: $\\sqrt{(2-2)^2 + (5-10)^2} = 5$\n",
    "- **C2**: $\\sqrt{(5-2)^2 + (8-5)^2} = \\sqrt{9 + 9} = 4.24$\n",
    "\n",
    "**Assign B to Cluster 2 (closer to C2).**\n",
    "\n",
    "---\n",
    "\n",
    "### Distance of C (8, 4) to:\n",
    "- **C1**: $\\sqrt{(8-2)^2 + (4-10)^2} = \\sqrt{36 + 36} = 8.49$\n",
    "- **C2**: $\\sqrt{(8-5)^2 + (4-8)^2} = \\sqrt{9 + 16} = 5$\n",
    "\n",
    "**Assign C to Cluster 2 (closer to C2).**\n",
    "\n",
    "---\n",
    "\n",
    "### Distance of D (5, 8) to:\n",
    "- **C1**: $\\sqrt{(5-2)^2 + (8-10)^2} = \\sqrt{9 + 4} = 3.61$\n",
    "- **C2**: $\\sqrt{(5-5)^2 + (8-8)^2} = 0$\n",
    "\n",
    "**Assign D to Cluster 2 (closer to C2).**\n",
    "\n",
    "---\n",
    "\n",
    "### Distance of E (7, 5) to:\n",
    "- **C1**: $\\sqrt{(7-2)^2 + (5-10)^2} = \\sqrt{25 + 25} = 7.07$\n",
    "- **C2**: $\\sqrt{(7-5)^2 + (5-8)^2} = \\sqrt{4 + 9} = 3.61$\n",
    "\n",
    "**Assign E to Cluster 2 (closer to C2).**\n",
    "\n",
    "---\n",
    "\n",
    "### Distance of F (6, 4) to:\n",
    "- **C1**: $\\sqrt{(6-2)^2 + (4-10)^2} = \\sqrt{16 + 36} = 7.21$\n",
    "- **C2**: $\\sqrt{(6-5)^2 + (4-8)^2} = \\sqrt{1 + 16} = 4.12$\n",
    "\n",
    "**Assign F to Cluster 2 (closer to C2).**\n",
    "\n",
    "---\n",
    "\n",
    "### Resulting Clusters After Step 1:\n",
    "- **Cluster 1**: A\n",
    "- **Cluster 2**: B, C, D, E, F\n",
    "\n",
    "---\n",
    "\n",
    "**Step 3: Update Centroids**\n",
    "Compute the new centroid for each cluster as the mean of all points in that cluster.\n",
    "1. Cluster 1 (A):\n",
    "    - Centroid = (2, 10)\n",
    "2. Cluster 2 (B, C, D, E, F):\n",
    "    - Centroid = $(\\frac{2+8+5+7+6}{5}, \\frac{5+4+8+5+4}{5}) =(5.6,5.2)$\n",
    "  \n",
    "**Repeat the process**"
   ]
  },
  {
   "cell_type": "code",
   "execution_count": 1,
   "id": "9f86a68b-9672-4dc2-9d14-fb05b46ae95f",
   "metadata": {},
   "outputs": [],
   "source": [
    "import numpy as np\n",
    "import pandas as pd"
   ]
  },
  {
   "cell_type": "code",
   "execution_count": 2,
   "id": "8e962031-8db2-48ac-a0c6-948b12118459",
   "metadata": {},
   "outputs": [],
   "source": [
    "# Set random seed for reproducibility\n",
    "np.random.seed(42)\n",
    "\n",
    "# Cluster 1 - center at (2, 2) with a standard deviation of 0.5\n",
    "cluster_1 = np.random.randn(100, 2) * 0.5 + np.array([2, 2])\n",
    "\n",
    "# Cluster 2 - center at (8, 8) with a standard deviation of 0.5\n",
    "cluster_2 = np.random.randn(100, 2) * 0.5 + np.array([8, 8])\n",
    "\n",
    "# Combine both clusters into a single dataset\n",
    "X = np.vstack([cluster_1, cluster_2])"
   ]
  },
  {
   "cell_type": "code",
   "execution_count": 13,
   "id": "f2fe63df-8307-473b-aab0-cb72c7983959",
   "metadata": {},
   "outputs": [
    {
     "data": {
      "text/html": [
       "<div>\n",
       "<style scoped>\n",
       "    .dataframe tbody tr th:only-of-type {\n",
       "        vertical-align: middle;\n",
       "    }\n",
       "\n",
       "    .dataframe tbody tr th {\n",
       "        vertical-align: top;\n",
       "    }\n",
       "\n",
       "    .dataframe thead th {\n",
       "        text-align: right;\n",
       "    }\n",
       "</style>\n",
       "<table border=\"1\" class=\"dataframe\">\n",
       "  <thead>\n",
       "    <tr style=\"text-align: right;\">\n",
       "      <th></th>\n",
       "      <th>x</th>\n",
       "      <th>y</th>\n",
       "    </tr>\n",
       "  </thead>\n",
       "  <tbody>\n",
       "    <tr>\n",
       "      <th>0</th>\n",
       "      <td>2.248357</td>\n",
       "      <td>1.930868</td>\n",
       "    </tr>\n",
       "    <tr>\n",
       "      <th>1</th>\n",
       "      <td>2.323844</td>\n",
       "      <td>2.761515</td>\n",
       "    </tr>\n",
       "    <tr>\n",
       "      <th>2</th>\n",
       "      <td>1.882923</td>\n",
       "      <td>1.882932</td>\n",
       "    </tr>\n",
       "    <tr>\n",
       "      <th>3</th>\n",
       "      <td>2.789606</td>\n",
       "      <td>2.383717</td>\n",
       "    </tr>\n",
       "    <tr>\n",
       "      <th>4</th>\n",
       "      <td>1.765263</td>\n",
       "      <td>2.271280</td>\n",
       "    </tr>\n",
       "    <tr>\n",
       "      <th>...</th>\n",
       "      <td>...</td>\n",
       "      <td>...</td>\n",
       "    </tr>\n",
       "    <tr>\n",
       "      <th>195</th>\n",
       "      <td>7.550793</td>\n",
       "      <td>8.245960</td>\n",
       "    </tr>\n",
       "    <tr>\n",
       "      <th>196</th>\n",
       "      <td>7.339883</td>\n",
       "      <td>8.915729</td>\n",
       "    </tr>\n",
       "    <tr>\n",
       "      <th>197</th>\n",
       "      <td>8.589720</td>\n",
       "      <td>7.765412</td>\n",
       "    </tr>\n",
       "    <tr>\n",
       "      <th>198</th>\n",
       "      <td>7.143433</td>\n",
       "      <td>8.676936</td>\n",
       "    </tr>\n",
       "    <tr>\n",
       "      <th>199</th>\n",
       "      <td>7.942730</td>\n",
       "      <td>8.618908</td>\n",
       "    </tr>\n",
       "  </tbody>\n",
       "</table>\n",
       "<p>200 rows × 2 columns</p>\n",
       "</div>"
      ],
      "text/plain": [
       "            x         y\n",
       "0    2.248357  1.930868\n",
       "1    2.323844  2.761515\n",
       "2    1.882923  1.882932\n",
       "3    2.789606  2.383717\n",
       "4    1.765263  2.271280\n",
       "..        ...       ...\n",
       "195  7.550793  8.245960\n",
       "196  7.339883  8.915729\n",
       "197  8.589720  7.765412\n",
       "198  7.143433  8.676936\n",
       "199  7.942730  8.618908\n",
       "\n",
       "[200 rows x 2 columns]"
      ]
     },
     "execution_count": 13,
     "metadata": {},
     "output_type": "execute_result"
    }
   ],
   "source": [
    "df = pd.DataFrame(X, columns=['x', 'y'])\n",
    "df"
   ]
  },
  {
   "cell_type": "code",
   "execution_count": 4,
   "id": "67f54a4e-33b8-465f-8886-fc54b7a137a6",
   "metadata": {},
   "outputs": [],
   "source": [
    "import seaborn as sns\n",
    "import matplotlib.pyplot as plt"
   ]
  },
  {
   "cell_type": "code",
   "execution_count": 5,
   "id": "7a65ab35-9929-443e-b1ea-eec2418775ed",
   "metadata": {},
   "outputs": [
    {
     "data": {
      "image/png": "[encoded data removed]",
      "text/plain": [
       "<Figure size 640x480 with 1 Axes>"
      ]
     },
     "metadata": {},
     "output_type": "display_data"
    }
   ],
   "source": [
    "sns.scatterplot(data=df, x='x', y='y', color='blue', alpha=0.7)\n",
    "plt.show()"
   ]
  },
  {
   "cell_type": "code",
   "execution_count": 6,
   "id": "bddf72ac-5997-44c6-abfd-8da4d62899e2",
   "metadata": {},
   "outputs": [],
   "source": [
    "def compute_distance(cx, cy, df):\n",
    "    df['distance'] = np.sqrt((df['x'] - cx[0])**2 + (df['y'] - cy[1])**2)\n",
    "    return df"
   ]
  },
  {
   "cell_type": "code",
   "execution_count": 10,
   "id": "63a59358-53a3-4923-bd5f-ea9dae2d39db",
   "metadata": {},
   "outputs": [
    {
     "data": {
      "text/plain": [
       "[(0.4148195023376652, 0.27340707193070624),\n",
       " (0.056375496650927115, 0.8647223762550532)]"
      ]
     },
     "execution_count": 10,
     "metadata": {},
     "output_type": "execute_result"
    }
   ],
   "source": [
    "k = 2\n",
    "centroid = []\n",
    "for i in range(k):\n",
    "    centroid.append((np.random.rand(), np.random.rand()))\n",
    "centroid"
   ]
  },
  {
   "cell_type": "code",
   "execution_count": 11,
   "id": "4f94af88-5be1-41d9-9227-244979832cac",
   "metadata": {},
   "outputs": [
    {
     "data": {
      "text/plain": [
       "np.int64(3)"
      ]
     },
     "execution_count": 11,
     "metadata": {},
     "output_type": "execute_result"
    }
   ],
   "source": [
    "arr = np.array([1,2, 3, -1])\n",
    "np.argmin(arr)"
   ]
  },
  {
   "cell_type": "code",
   "execution_count": 16,
   "id": "000b39ae-b41a-4dc4-9635-5e88f5886795",
   "metadata": {},
   "outputs": [
    {
     "name": "stdout",
     "output_type": "stream",
     "text": [
      "Updated Centroids: [[np.float64(2.2202062866569183), np.float64(1.4255696134933522)], [np.float64(5.364799315808836), np.float64(5.486369477802593)]]\n",
      "Updated Centroids: [[np.float64(1.942217872605805), np.float64(2.0170111622221096)], [np.float64(8.064124362306924), np.float64(8.021743824591951)]]\n",
      "Updated Centroids: [[np.float64(1.942217872605805), np.float64(2.0170111622221096)], [np.float64(8.064124362306924), np.float64(8.021743824591951)]]\n",
      "Centroids have converged!\n"
     ]
    }
   ],
   "source": [
    "while True:\n",
    "    current_centroids = []\n",
    "    # Step 1: Assign each point to the nearest centroid\n",
    "    df['centroid'] = df.apply(lambda row: np.argmin(\n",
    "        [np.sqrt((row['x'] - c[0])**2 + (row['y'] - c[1])**2) for c in centroid]\n",
    "    ), axis=1)\n",
    "\n",
    "    # Step 2: Compute the new centroids by taking the mean of points assigned to each centroid\n",
    "    for i in range(k):\n",
    "        cluster_points = df[df['centroid'] == i]\n",
    "        new_centroid = [cluster_points['x'].mean(), cluster_points['y'].mean()]  # Calculate mean of x and y\n",
    "        current_centroids.append(new_centroid)\n",
    "    \n",
    "    print(\"Updated Centroids:\", current_centroids)\n",
    "\n",
    "    # Step 3: Check for convergence\n",
    "    # absolute(a - b) <= (atol + rtol * absolute(b))\n",
    "    if np.allclose(current_centroids, centroid):  # Check if centroids have converged\n",
    "        print(\"Centroids have converged!\")\n",
    "        break\n",
    "    \n",
    "    # Step 4: Update the centroids for the next iteration\n",
    "    centroid = current_centroids"
   ]
  },
  {
   "cell_type": "code",
   "execution_count": 20,
   "id": "b0ed6adc-78f1-4dcf-a874-5bc356277ddd",
   "metadata": {},
   "outputs": [
    {
     "data": {
      "text/plain": [
       "array([[1.94221787, 2.01701116],\n",
       "       [8.06412436, 8.02174382]])"
      ]
     },
     "execution_count": 20,
     "metadata": {},
     "output_type": "execute_result"
    }
   ],
   "source": [
    "centroid = np.array(centroid)\n",
    "centroid"
   ]
  },
  {
   "cell_type": "code",
   "execution_count": 21,
   "id": "1d3e3ea8-544f-4f7b-a755-a611f286f9fa",
   "metadata": {},
   "outputs": [
    {
     "data": {
      "image/png": "[encoded data removed]",
      "text/plain": [
       "<Figure size 800x600 with 1 Axes>"
      ]
     },
     "metadata": {},
     "output_type": "display_data"
    }
   ],
   "source": [
    "# Plot the scatter plot using seaborn\n",
    "plt.figure(figsize=(8, 6))\n",
    "sns.scatterplot(data=df, x='x', y='y', color='blue', alpha=0.7)\n",
    "\n",
    "# Plot the centroids on top of the scatter plot\n",
    "plt.scatter(centroid[:, 0], centroid[:, 1], color='red', marker='X', s=100, label='Centroids')\n",
    "\n",
    "# Title and labels\n",
    "plt.title('Scatter Plot with Centroids')\n",
    "plt.xlabel('x')\n",
    "plt.ylabel('y')\n",
    "\n",
    "# Show the legend\n",
    "plt.legend()\n",
    "\n",
    "# Display the plot\n",
    "plt.show()"
   ]
  },
  {
   "cell_type": "code",
   "execution_count": null,
   "id": "7455fc69-9a72-4e54-9de3-650e38d75b80",
   "metadata": {},
   "outputs": [],
   "source": []
  }
 ],
 "metadata": {
  "kernelspec": {
   "display_name": "Python 3 (ipykernel)",
   "language": "python",
   "name": "python3"
  },
  "language_info": {
   "codemirror_mode": {
    "name": "ipython",
    "version": 3
   },
   "file_extension": ".py",
   "mimetype": "text/x-python",
   "name": "python",
   "nbconvert_exporter": "python",
   "pygments_lexer": "ipython3",
   "version": "3.12.4"
  }
 },
 "nbformat": 4,
 "nbformat_minor": 5
}
