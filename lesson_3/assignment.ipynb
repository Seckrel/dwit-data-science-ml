{
 "cells": [
  {
   "cell_type": "markdown",
   "id": "93d8f306-cc17-40b4-a20e-8d51148dfa9d",
   "metadata": {},
   "source": [
    "download titanic data  \n",
    "1)count no. of value of missing data in each column atleast 2  \n",
    "2)find corelation between 2 column  \n",
    "3)barchart of 0 and 1 (survive and dead)  \n",
    "4)mean and std of all columns  "
   ]
  },
  {
   "cell_type": "code",
   "execution_count": 3,
   "id": "c6637b1a-d9ac-487b-a135-40cf450e3547",
   "metadata": {},
   "outputs": [],
   "source": [
    "import numpy as np"
   ]
  },
  {
   "cell_type": "markdown",
   "id": "821a86ed-b1b7-4902-9638-c8b12451fffa",
   "metadata": {},
   "source": [
    "# Assingment Using Numpy"
   ]
  },
  {
   "cell_type": "code",
   "execution_count": 13,
   "id": "0bc92cbf-ee25-4b00-8140-d2c0c2e5f7a1",
   "metadata": {},
   "outputs": [
    {
     "data": {
      "text/plain": [
       "array([[  1.    ,   0.    ,   3.    , ...,   7.25  ,      nan,      nan],\n",
       "       [  2.    ,   1.    ,   1.    , ...,  71.2833,      nan,      nan],\n",
       "       [  3.    ,   1.    ,   3.    , ...,   7.925 ,      nan,      nan],\n",
       "       ...,\n",
       "       [889.    ,   0.    ,   3.    , ...,  23.45  ,      nan,      nan],\n",
       "       [890.    ,   1.    ,   1.    , ...,  30.    ,      nan,      nan],\n",
       "       [891.    ,   0.    ,   3.    , ...,   7.75  ,      nan,      nan]])"
      ]
     },
     "execution_count": 13,
     "metadata": {},
     "output_type": "execute_result"
    }
   ],
   "source": [
    "data = np.genfromtxt('data/Titanic-Dataset.csv', delimiter=',', encoding=None, skip_header=1)\n",
    "data"
   ]
  },
  {
   "cell_type": "code",
   "execution_count": 23,
   "id": "b2cac3de-438b-4e0a-b480-f75cf02b6682",
   "metadata": {},
   "outputs": [
    {
     "data": {
      "text/plain": [
       "array([ 1.  ,  0.  ,  3.  ,   nan,   nan,   nan, 22.  ,  1.  ,  0.  ,\n",
       "         nan,  7.25,   nan,   nan])"
      ]
     },
     "execution_count": 23,
     "metadata": {},
     "output_type": "execute_result"
    }
   ],
   "source": [
    "data[0] "
   ]
  },
  {
   "cell_type": "markdown",
   "id": "42b782d0-94ea-4946-bb96-a2d35c6a4317",
   "metadata": {},
   "source": [
    "## Counting Missing data\n",
    "Column selected 2nd, and 6th"
   ]
  },
  {
   "cell_type": "code",
   "execution_count": 26,
   "id": "cd24b210-37c3-451c-b8af-3698da303157",
   "metadata": {},
   "outputs": [
    {
     "data": {
      "text/plain": [
       "False"
      ]
     },
     "execution_count": 26,
     "metadata": {},
     "output_type": "execute_result"
    }
   ],
   "source": [
    "has_missing = np.isnan(data[:, 2])\n",
    "any(has_missing)"
   ]
  },
  {
   "cell_type": "markdown",
   "id": "ad3355e4-68ae-4c39-a82a-6e75de209b7f",
   "metadata": {},
   "source": [
    "This means 0 missing data"
   ]
  },
  {
   "cell_type": "code",
   "execution_count": 27,
   "id": "bcbdfdc7-2b01-4df1-8e3d-23dccf560478",
   "metadata": {},
   "outputs": [
    {
     "data": {
      "text/plain": [
       "True"
      ]
     },
     "execution_count": 27,
     "metadata": {},
     "output_type": "execute_result"
    }
   ],
   "source": [
    "has_missing = np.isnan(data[:, 6])\n",
    "any(has_missing)"
   ]
  },
  {
   "cell_type": "code",
   "execution_count": 30,
   "id": "64d326fd-a599-4e52-a23f-40d4340f4b39",
   "metadata": {},
   "outputs": [
    {
     "data": {
      "text/plain": [
       "np.int64(177)"
      ]
     },
     "execution_count": 30,
     "metadata": {},
     "output_type": "execute_result"
    }
   ],
   "source": [
    "np.sum(has_missing)"
   ]
  },
  {
   "cell_type": "markdown",
   "id": "22570637-7b88-482c-90e8-57ed47e05a03",
   "metadata": {},
   "source": [
    "6th column has 177 missing values"
   ]
  },
  {
   "cell_type": "markdown",
   "id": "ef8342f8-62b8-4b35-9b01-3becd590f3b9",
   "metadata": {},
   "source": [
    "## Pearson's Correlation\n",
    "Column Choosen: 2nd and 6th"
   ]
  },
  {
   "cell_type": "code",
   "execution_count": 31,
   "id": "b9b46f52-5496-43b3-ba67-c03ce6e4b80a",
   "metadata": {},
   "outputs": [],
   "source": [
    "col2 = data[:, 2]\n",
    "col6 = data[: , 6]\n",
    "correlation_matrix = np.corrcoef(col2, col6)"
   ]
  },
  {
   "cell_type": "code",
   "execution_count": 33,
   "id": "0c6d5a97-9b08-4d5d-bed8-f15ee09a5b2d",
   "metadata": {},
   "outputs": [
    {
     "data": {
      "text/plain": [
       "np.float64(nan)"
      ]
     },
     "execution_count": 33,
     "metadata": {},
     "output_type": "execute_result"
    }
   ],
   "source": [
    "correlation_matrix[0, 1]"
   ]
  },
  {
   "cell_type": "markdown",
   "id": "1273960c-f87c-4064-b4c3-05491f4d4276",
   "metadata": {},
   "source": [
    "**Non correlation found has 6th column has some missing values**"
   ]
  },
  {
   "cell_type": "markdown",
   "id": "db44ef82-0db1-4bcc-800c-03e75622d63e",
   "metadata": {},
   "source": [
    "## Bar Chart of Survived vs. Dead"
   ]
  },
  {
   "cell_type": "code",
   "execution_count": 34,
   "id": "c3c87c49-0c93-428a-b620-93fedd220630",
   "metadata": {},
   "outputs": [],
   "source": [
    "import matplotlib.pyplot as plt"
   ]
  },
  {
   "cell_type": "code",
   "execution_count": 36,
   "id": "7af50e25-4bb6-45d0-b3d3-d459fae119bd",
   "metadata": {},
   "outputs": [
    {
     "data": {
      "text/plain": [
       "False"
      ]
     },
     "execution_count": 36,
     "metadata": {},
     "output_type": "execute_result"
    }
   ],
   "source": [
    "survived_col = data[:,1]\n",
    "has_missing = np.isnan(survived_col)\n",
    "any(has_missing)"
   ]
  },
  {
   "cell_type": "code",
   "execution_count": 38,
   "id": "6d9f7e3c-19da-44bf-a2e6-bc9a4a22b061",
   "metadata": {},
   "outputs": [
    {
     "name": "stdout",
     "output_type": "stream",
     "text": [
      "342 / 549\n"
     ]
    }
   ],
   "source": [
    "total_survived = np.sum(survived_col == 1)\n",
    "total_dead = np.sum(survived_col != 1)\n",
    "print(total_survived, '/', total_dead)"
   ]
  },
  {
   "cell_type": "code",
   "execution_count": 39,
   "id": "9c8b9573-e7a1-4872-ae39-4271a843f025",
   "metadata": {},
   "outputs": [],
   "source": [
    "bar_x = ['Survived', 'Dead']\n",
    "bar_y = [total_survived, total_dead]"
   ]
  },
  {
   "cell_type": "code",
   "execution_count": 43,
   "id": "aa73e3b1-9727-4eee-b083-4e0703eb7e76",
   "metadata": {},
   "outputs": [
    {
     "data": {
      "image/png": "[encoded data removed]",
      "text/plain": [
       "<Figure size 640x480 with 1 Axes>"
      ]
     },
     "metadata": {},
     "output_type": "display_data"
    }
   ],
   "source": [
    "plt.bar(bar_x, bar_y, color=('g', 'r'))\n",
    "plt.xlabel('Mortality Category')\n",
    "plt.ylabel('Count')\n",
    "plt.title('Survived vs. Dead in Titanic')\n",
    "plt.show()"
   ]
  },
  {
   "cell_type": "markdown",
   "id": "9c78397c-ef8b-4174-9851-be91eaa6846d",
   "metadata": {},
   "source": [
    "## Mean, Median and Std."
   ]
  },
  {
   "cell_type": "code",
   "execution_count": 45,
   "id": "c3c90e0e-9d38-4b4a-af03-b688b8a506c4",
   "metadata": {},
   "outputs": [],
   "source": [
    "no_of_cols = data.shape[1]"
   ]
  },
  {
   "cell_type": "code",
   "execution_count": 50,
   "id": "de1332ef-74f4-40ec-a601-a2b893a397ed",
   "metadata": {},
   "outputs": [
    {
     "name": "stdout",
     "output_type": "stream",
     "text": [
      "Col  0 | Mean: 446.00, Median: 446.00, S.D.: 257.209\n",
      "Col  1 | Mean: 0.38, Median: 0.00, S.D.: 0.486\n",
      "Col  2 | Mean: 2.31, Median: 3.00, S.D.: 0.836\n",
      "Col  3 | Mean: nan, Median: nan, S.D.: nan\n",
      "Col  4 | Mean: nan, Median: nan, S.D.: nan\n",
      "Col  5 | Mean: nan, Median: nan, S.D.: nan\n",
      "Col  6 | Mean: nan, Median: nan, S.D.: nan\n",
      "Col  7 | Mean: 0.52, Median: 0.00, S.D.: 1.102\n",
      "Col  8 | Mean: 0.38, Median: 0.00, S.D.: 0.806\n",
      "Col  9 | Mean: nan, Median: nan, S.D.: nan\n",
      "Col 10 | Mean: 32.20, Median: 14.45, S.D.: 49.666\n",
      "Col 11 | Mean: nan, Median: nan, S.D.: nan\n",
      "Col 12 | Mean: nan, Median: nan, S.D.: nan\n"
     ]
    }
   ],
   "source": [
    "for col_idx in range(no_of_cols):\n",
    "    col = data[:, col_idx]\n",
    "    mean = np.mean(col)\n",
    "    median = np.median(col)\n",
    "    std = np.std(col)\n",
    "    print(f\"Col {col_idx:>2} | Mean: {mean:.2f}, Median: {median:.2f}, S.D.: {std:.3f}\")"
   ]
  },
  {
   "cell_type": "code",
   "execution_count": null,
   "id": "35e47ed0-8ec0-45e9-bece-c4e4aa1eaec7",
   "metadata": {},
   "outputs": [],
   "source": []
  }
 ],
 "metadata": {
  "kernelspec": {
   "display_name": "Python 3 (ipykernel)",
   "language": "python",
   "name": "python3"
  },
  "language_info": {
   "codemirror_mode": {
    "name": "ipython",
    "version": 3
   },
   "file_extension": ".py",
   "mimetype": "text/x-python",
   "name": "python",
   "nbconvert_exporter": "python",
   "pygments_lexer": "ipython3",
   "version": "3.12.4"
  }
 },
 "nbformat": 4,
 "nbformat_minor": 5
}
