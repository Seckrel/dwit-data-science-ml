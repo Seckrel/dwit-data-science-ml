{
 "cells": [
  {
   "cell_type": "markdown",
   "id": "8b21f282-0c31-4380-bcc2-eb648f353ac8",
   "metadata": {},
   "source": [
    "# Clustering\n",
    "Clustering is a type of unsupervised learning where the goal is to group similar data points into clusters or groups. Each group contains data points that are more similar to each other than to those in other groups. The primary objective is to discover hidden patterns or structures in data without prior labels or supervision.\n",
    "\n",
    "In essence, clustering attempts to divide a dataset into subgroups that share common traits or features, with the aim of finding natural groupings in the data.\n",
    "\n"
   ]
  },
  {
   "cell_type": "markdown",
   "id": "3b094cea-b879-48d2-b0eb-57994e43e409",
   "metadata": {},
   "source": [
    "# Algorithms"
   ]
  },
  {
   "attachments": {},
   "cell_type": "markdown",
   "id": "5a7f8eb8-efef-4216-be24-5bd6f9b6700f",
   "metadata": {},
   "source": [
    "## K-Nearest Neighbors (KNN)\n",
    "- It is the simplest technique and basic algorithm for clustering\n",
    "- We first choose k initial centroids, where k is user specified parameter namely, the number of cluster desired\n",
    "- Each point is then assigned to the closest centroid, and each collection of points assigned to a centroid is a cluster\n",
    "- We repeat the assignment and update steps until no point change cluster, or equivalently until centroids remain the same\n",
    "\n",
    "**Calculate Distance**\n",
    "- Manhattan Distance\n",
    "$$\n",
    "dis. = |x_{i} - y_{i}|\n",
    "$$\n",
    "\n",
    "- Euclidean Distance (Most Common)\n",
    "$$\n",
    "dist. = \\sqrt{(x_{i} - y_{i})^{2}}\n",
    "$$\n"
   ]
  },
  {
   "cell_type": "code",
   "execution_count": 23,
   "id": "9f86a68b-9672-4dc2-9d14-fb05b46ae95f",
   "metadata": {},
   "outputs": [],
   "source": [
    "import numpy as np\n",
    "import pandas as pd"
   ]
  },
  {
   "cell_type": "code",
   "execution_count": 44,
   "id": "8e962031-8db2-48ac-a0c6-948b12118459",
   "metadata": {},
   "outputs": [],
   "source": [
    "# Set random seed for reproducibility\n",
    "np.random.seed(42)\n",
    "\n",
    "# Cluster 1 - center at (2, 2) with a standard deviation of 0.5\n",
    "cluster_1 = np.random.randn(100, 2) * 0.5 + np.array([2, 2])\n",
    "\n",
    "# Cluster 2 - center at (8, 8) with a standard deviation of 0.5\n",
    "cluster_2 = np.random.randn(100, 2) * 0.5 + np.array([8, 8])\n",
    "\n",
    "# Combine both clusters into a single dataset\n",
    "X = np.vstack([cluster_1, cluster_2])"
   ]
  },
  {
   "cell_type": "code",
   "execution_count": 45,
   "id": "f2fe63df-8307-473b-aab0-cb72c7983959",
   "metadata": {},
   "outputs": [
    {
     "data": {
      "text/html": [
       "<div>\n",
       "<style scoped>\n",
       "    .dataframe tbody tr th:only-of-type {\n",
       "        vertical-align: middle;\n",
       "    }\n",
       "\n",
       "    .dataframe tbody tr th {\n",
       "        vertical-align: top;\n",
       "    }\n",
       "\n",
       "    .dataframe thead th {\n",
       "        text-align: right;\n",
       "    }\n",
       "</style>\n",
       "<table border=\"1\" class=\"dataframe\">\n",
       "  <thead>\n",
       "    <tr style=\"text-align: right;\">\n",
       "      <th></th>\n",
       "      <th>x</th>\n",
       "      <th>y</th>\n",
       "    </tr>\n",
       "  </thead>\n",
       "  <tbody>\n",
       "    <tr>\n",
       "      <th>0</th>\n",
       "      <td>2.248357</td>\n",
       "      <td>1.930868</td>\n",
       "    </tr>\n",
       "    <tr>\n",
       "      <th>1</th>\n",
       "      <td>2.323844</td>\n",
       "      <td>2.761515</td>\n",
       "    </tr>\n",
       "    <tr>\n",
       "      <th>2</th>\n",
       "      <td>1.882923</td>\n",
       "      <td>1.882932</td>\n",
       "    </tr>\n",
       "    <tr>\n",
       "      <th>3</th>\n",
       "      <td>2.789606</td>\n",
       "      <td>2.383717</td>\n",
       "    </tr>\n",
       "    <tr>\n",
       "      <th>4</th>\n",
       "      <td>1.765263</td>\n",
       "      <td>2.271280</td>\n",
       "    </tr>\n",
       "  </tbody>\n",
       "</table>\n",
       "</div>"
      ],
      "text/plain": [
       "          x         y\n",
       "0  2.248357  1.930868\n",
       "1  2.323844  2.761515\n",
       "2  1.882923  1.882932\n",
       "3  2.789606  2.383717\n",
       "4  1.765263  2.271280"
      ]
     },
     "execution_count": 45,
     "metadata": {},
     "output_type": "execute_result"
    }
   ],
   "source": [
    "df = pd.DataFrame(X, columns=['x', 'y'])\n",
    "df.head()"
   ]
  },
  {
   "cell_type": "code",
   "execution_count": 55,
   "id": "67f54a4e-33b8-465f-8886-fc54b7a137a6",
   "metadata": {},
   "outputs": [],
   "source": [
    "import seaborn as sns\n",
    "import matplotlib.pyplot as plt"
   ]
  },
  {
   "cell_type": "code",
   "execution_count": 56,
   "id": "7a65ab35-9929-443e-b1ea-eec2418775ed",
   "metadata": {},
   "outputs": [
    {
     "data": {
      "image/png": "[encoded data removed]",
      "text/plain": [
       "<Figure size 640x480 with 1 Axes>"
      ]
     },
     "metadata": {},
     "output_type": "display_data"
    }
   ],
   "source": [
    "sns.scatterplot(data=df, x='x', y='y', color='blue', alpha=0.7)\n",
    "plt.show()"
   ]
  },
  {
   "cell_type": "code",
   "execution_count": 46,
   "id": "bddf72ac-5997-44c6-abfd-8da4d62899e2",
   "metadata": {},
   "outputs": [],
   "source": [
    "def compute_distance(cx, cy, df):\n",
    "    df['distance'] = np.sqrt((df['x'] - cx[0])**2 + (df['y'] - cy[1])**2)\n",
    "    return df"
   ]
  },
  {
   "cell_type": "code",
   "execution_count": 59,
   "id": "63a59358-53a3-4923-bd5f-ea9dae2d39db",
   "metadata": {},
   "outputs": [
    {
     "data": {
      "text/plain": [
       "[(0.8129010091300776, 0.9997176732861306),\n",
       " (0.9966368370739054, 0.5554317056026274)]"
      ]
     },
     "execution_count": 59,
     "metadata": {},
     "output_type": "execute_result"
    }
   ],
   "source": [
    "k = 2\n",
    "centroid = []\n",
    "for i in range(k):\n",
    "    centroid.append((np.random.rand(), np.random.rand()))\n",
    "centroid"
   ]
  },
  {
   "cell_type": "code",
   "execution_count": 60,
   "id": "000b39ae-b41a-4dc4-9635-5e88f5886795",
   "metadata": {
    "scrolled": true
   },
   "outputs": [
    {
     "name": "stdout",
     "output_type": "stream",
     "text": [
      "Updated Centroids: [[np.float64(5.101925869454566), np.float64(5.1586220617370735)], [np.float64(2.280361526648836), np.float64(1.1802058237358246)]]\n",
      "Updated Centroids: [[np.float64(8.064124362306924), np.float64(8.021743824591951)], [np.float64(1.942217872605805), np.float64(2.0170111622221096)]]\n",
      "Updated Centroids: [[np.float64(8.064124362306924), np.float64(8.021743824591951)], [np.float64(1.942217872605805), np.float64(2.0170111622221096)]]\n",
      "Centroids have converged!\n"
     ]
    }
   ],
   "source": [
    "while True:\n",
    "    current_centroids = []\n",
    "    # Step 1: Assign each point to the nearest centroid\n",
    "    df['centroid'] = df.apply(lambda row: np.argmin([np.sqrt((row['x'] - c[0])**2 + (row['y'] - c[1])**2) for c in centroid]), axis=1)\n",
    "\n",
    "    # Step 2: Compute the new centroids by taking the mean of points assigned to each centroid\n",
    "    for i in range(k):\n",
    "        cluster_points = df[df['centroid'] == i]\n",
    "        new_centroid = [cluster_points['x'].mean(), cluster_points['y'].mean()]  # Calculate mean of x and y\n",
    "        current_centroids.append(new_centroid)\n",
    "    \n",
    "    print(\"Updated Centroids:\", current_centroids)\n",
    "\n",
    "    # Step 3: Check for convergence\n",
    "    if np.allclose(current_centroids, centroid):  # Check if centroids have converged\n",
    "        print(\"Centroids have converged!\")\n",
    "        break\n",
    "    \n",
    "    # Step 4: Update the centroids for the next iteration\n",
    "    centroid = current_centroids"
   ]
  },
  {
   "cell_type": "code",
   "execution_count": 61,
   "id": "b0ed6adc-78f1-4dcf-a874-5bc356277ddd",
   "metadata": {},
   "outputs": [
    {
     "data": {
      "text/plain": [
       "[[np.float64(8.064124362306924), np.float64(8.021743824591951)],\n",
       " [np.float64(1.942217872605805), np.float64(2.0170111622221096)]]"
      ]
     },
     "execution_count": 61,
     "metadata": {},
     "output_type": "execute_result"
    }
   ],
   "source": [
    "centroid"
   ]
  },
  {
   "cell_type": "code",
   "execution_count": 65,
   "id": "1d3e3ea8-544f-4f7b-a755-a611f286f9fa",
   "metadata": {},
   "outputs": [
    {
     "ename": "TypeError",
     "evalue": "list indices must be integers or slices, not tuple",
     "output_type": "error",
     "traceback": [
      "\u001b[0;31m---------------------------------------------------------------------------\u001b[0m",
      "\u001b[0;31mTypeError\u001b[0m                                 Traceback (most recent call last)",
      "Cell \u001b[0;32mIn[65], line 6\u001b[0m\n\u001b[1;32m      3\u001b[0m sns\u001b[38;5;241m.\u001b[39mscatterplot(data\u001b[38;5;241m=\u001b[39mdf, x\u001b[38;5;241m=\u001b[39m\u001b[38;5;124m'\u001b[39m\u001b[38;5;124mx\u001b[39m\u001b[38;5;124m'\u001b[39m, y\u001b[38;5;241m=\u001b[39m\u001b[38;5;124m'\u001b[39m\u001b[38;5;124my\u001b[39m\u001b[38;5;124m'\u001b[39m, color\u001b[38;5;241m=\u001b[39m\u001b[38;5;124m'\u001b[39m\u001b[38;5;124mblue\u001b[39m\u001b[38;5;124m'\u001b[39m, alpha\u001b[38;5;241m=\u001b[39m\u001b[38;5;241m0.7\u001b[39m)\n\u001b[1;32m      5\u001b[0m \u001b[38;5;66;03m# Plot the centroids on top of the scatter plot\u001b[39;00m\n\u001b[0;32m----> 6\u001b[0m plt\u001b[38;5;241m.\u001b[39mscatter(\u001b[43mcentroid\u001b[49m\u001b[43m[\u001b[49m\u001b[43m:\u001b[49m\u001b[43m,\u001b[49m\u001b[43m \u001b[49m\u001b[38;5;241;43m0\u001b[39;49m\u001b[43m]\u001b[49m, centroid[:, \u001b[38;5;241m1\u001b[39m], color\u001b[38;5;241m=\u001b[39m\u001b[38;5;124m'\u001b[39m\u001b[38;5;124mred\u001b[39m\u001b[38;5;124m'\u001b[39m, marker\u001b[38;5;241m=\u001b[39m\u001b[38;5;124m'\u001b[39m\u001b[38;5;124mX\u001b[39m\u001b[38;5;124m'\u001b[39m, s\u001b[38;5;241m=\u001b[39m\u001b[38;5;241m100\u001b[39m, label\u001b[38;5;241m=\u001b[39m\u001b[38;5;124m'\u001b[39m\u001b[38;5;124mCentroids\u001b[39m\u001b[38;5;124m'\u001b[39m)\n\u001b[1;32m      8\u001b[0m \u001b[38;5;66;03m# Title and labels\u001b[39;00m\n\u001b[1;32m      9\u001b[0m plt\u001b[38;5;241m.\u001b[39mtitle(\u001b[38;5;124m'\u001b[39m\u001b[38;5;124mScatter Plot with Centroids\u001b[39m\u001b[38;5;124m'\u001b[39m)\n",
      "\u001b[0;31mTypeError\u001b[0m: list indices must be integers or slices, not tuple"
     ]
    },
    {
     "data": {
      "image/png": "[encoded data removed]",
      "text/plain": [
       "<Figure size 800x600 with 1 Axes>"
      ]
     },
     "metadata": {},
     "output_type": "display_data"
    }
   ],
   "source": [
    "# Plot the scatter plot using seaborn\n",
    "plt.figure(figsize=(8, 6))\n",
    "sns.scatterplot(data=df, x='x', y='y', color='blue', alpha=0.7)\n",
    "\n",
    "# Plot the centroids on top of the scatter plot\n",
    "plt.scatter(centroid[:, 0], centroid[:, 1], color='red', marker='X', s=100, label='Centroids')\n",
    "\n",
    "# Title and labels\n",
    "plt.title('Scatter Plot with Centroids')\n",
    "plt.xlabel('x')\n",
    "plt.ylabel('y')\n",
    "\n",
    "# Show the legend\n",
    "plt.legend()\n",
    "\n",
    "# Display the plot\n",
    "plt.show()"
   ]
  },
  {
   "cell_type": "code",
   "execution_count": null,
   "id": "7455fc69-9a72-4e54-9de3-650e38d75b80",
   "metadata": {},
   "outputs": [],
   "source": []
  }
 ],
 "metadata": {
  "kernelspec": {
   "display_name": "Python 3 (ipykernel)",
   "language": "python",
   "name": "python3"
  },
  "language_info": {
   "codemirror_mode": {
    "name": "ipython",
    "version": 3
   },
   "file_extension": ".py",
   "mimetype": "text/x-python",
   "name": "python",
   "nbconvert_exporter": "python",
   "pygments_lexer": "ipython3",
   "version": "3.12.4"
  }
 },
 "nbformat": 4,
 "nbformat_minor": 5
}
